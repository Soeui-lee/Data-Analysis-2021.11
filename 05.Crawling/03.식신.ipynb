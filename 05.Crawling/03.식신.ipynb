{
 "cells": [
  {
   "cell_type": "markdown",
   "metadata": {},
   "source": [
    "# 식신 - 제주시청"
   ]
  },
  {
   "cell_type": "code",
   "execution_count": 80,
   "metadata": {},
   "outputs": [],
   "source": [
    "import requests\n",
    "from urllib.parse import quote\n",
    "import pandas as pd\n",
    "from bs4 import BeautifulSoup"
   ]
  },
  {
   "cell_type": "markdown",
   "metadata": {},
   "source": [
    "### 1. 데이터 가져오기"
   ]
  },
  {
   "cell_type": "code",
   "execution_count": 2,
   "metadata": {},
   "outputs": [],
   "source": [
    "site = 'https://www.siksinhot.com'\n",
    "url = f'{site}/search?keywords={quote(\"제주시청\")}'\n",
    "req = requests.get(url)\n",
    "html = req.text\n",
    "# html \n",
    "# 출력하지 않습니다! "
   ]
  },
  {
   "cell_type": "code",
   "execution_count": 3,
   "metadata": {},
   "outputs": [],
   "source": [
    "soup = BeautifulSoup(html, 'html.parser')"
   ]
  },
  {
   "cell_type": "markdown",
   "metadata": {},
   "source": [
    "### 2. 찾으려고 하는 데이터의 태그 찾기"
   ]
  },
  {
   "cell_type": "code",
   "execution_count": 8,
   "metadata": {},
   "outputs": [
    {
     "data": {
      "text/plain": [
       "60"
      ]
     },
     "execution_count": 8,
     "metadata": {},
     "output_type": "execute_result"
    }
   ],
   "source": [
    "lis = soup.select_one('.listTy1').find_all('li')\n",
    "len(lis)\n"
   ]
  },
  {
   "cell_type": "code",
   "execution_count": null,
   "metadata": {},
   "outputs": [],
   "source": [
    "# 원하는 li는 식신 페이지의 12개 뿐인데 60개\n",
    "# listTy1 의 자식 ul, ul의 자식 li를 찾아주기 "
   ]
  },
  {
   "cell_type": "code",
   "execution_count": 13,
   "metadata": {},
   "outputs": [
    {
     "data": {
      "text/plain": [
       "12"
      ]
     },
     "execution_count": 13,
     "metadata": {},
     "output_type": "execute_result"
    }
   ],
   "source": [
    "# 자식 Selector \n",
    "lis = soup.select('.listTy1 > ul > li')\n",
    "len(lis)\n"
   ]
  },
  {
   "cell_type": "markdown",
   "metadata": {},
   "source": [
    "### 3. 하나를 선택해서 원하는 정보 추출 \n",
    "- 상호, 평점, 메뉴, 서브 페이지의 url\n",
    "- 서브페이지에서 - 전화번호, 주소 "
   ]
  },
  {
   "cell_type": "markdown",
   "metadata": {},
   "source": [
    "- 평가중인 제주시새우리 말고, 2번째인 안양돈까스 제주시점"
   ]
  },
  {
   "cell_type": "code",
   "execution_count": 16,
   "metadata": {},
   "outputs": [
    {
     "data": {
      "text/plain": [
       "'/P/466268'"
      ]
     },
     "execution_count": 16,
     "metadata": {},
     "output_type": "execute_result"
    }
   ],
   "source": [
    "li = lis[1]                   # 안양돈까스 인덱싱\n",
    "href = li.find('a')['href']\n",
    "href"
   ]
  },
  {
   "cell_type": "markdown",
   "metadata": {},
   "source": [
    "- 평점 score"
   ]
  },
  {
   "cell_type": "code",
   "execution_count": 34,
   "metadata": {},
   "outputs": [
    {
     "data": {
      "text/plain": [
       "'3.4'"
      ]
     },
     "execution_count": 34,
     "metadata": {},
     "output_type": "execute_result"
    }
   ],
   "source": [
    "score = li.select_one('.score').get_text().strip()\n",
    "score\n",
    "# 왜 int가 안 먹힐까..?"
   ]
  },
  {
   "cell_type": "markdown",
   "metadata": {},
   "source": [
    "- 상호 store"
   ]
  },
  {
   "cell_type": "code",
   "execution_count": 38,
   "metadata": {},
   "outputs": [
    {
     "data": {
      "text/plain": [
       "'안양돈까스 제주시점'"
      ]
     },
     "execution_count": 38,
     "metadata": {},
     "output_type": "execute_result"
    }
   ],
   "source": [
    "store = li.select_one('.store').get_text().strip()\n",
    "store"
   ]
  },
  {
   "cell_type": "markdown",
   "metadata": {},
   "source": [
    "- 메뉴 menu"
   ]
  },
  {
   "cell_type": "code",
   "execution_count": 43,
   "metadata": {},
   "outputs": [
    {
     "data": {
      "text/plain": [
       "'돈까스 세트, 치즈돈까스 세트'"
      ]
     },
     "execution_count": 43,
     "metadata": {},
     "output_type": "execute_result"
    }
   ],
   "source": [
    "menu = li.find('p').get_text().strip()\n",
    "menu "
   ]
  },
  {
   "cell_type": "code",
   "execution_count": 44,
   "metadata": {},
   "outputs": [
    {
     "data": {
      "text/plain": [
       "'https://www.siksinhot.com/P/466268'"
      ]
     },
     "execution_count": 44,
     "metadata": {},
     "output_type": "execute_result"
    }
   ],
   "source": [
    "sub_url = site + href\n",
    "sub_url"
   ]
  },
  {
   "cell_type": "code",
   "execution_count": 46,
   "metadata": {},
   "outputs": [],
   "source": [
    "# sub_url 가지고 오는 메소드\n",
    "sub_req = requests.get(sub_url)\n",
    "sub_html = sub_req.text \n",
    "sub_soup = BeautifulSoup(sub_html, 'html.parser')"
   ]
  },
  {
   "cell_type": "markdown",
   "metadata": {},
   "source": [
    "- 전화번호 tel"
   ]
  },
  {
   "cell_type": "code",
   "execution_count": 59,
   "metadata": {},
   "outputs": [
    {
     "data": {
      "text/plain": [
       "'064-799-1434'"
      ]
     },
     "execution_count": 59,
     "metadata": {},
     "output_type": "execute_result"
    }
   ],
   "source": [
    "tel = sub_soup.select_one('.p_tel').find('p').get_text().strip()\n",
    "tel "
   ]
  },
  {
   "cell_type": "markdown",
   "metadata": {},
   "source": [
    "- 주소 addr"
   ]
  },
  {
   "cell_type": "code",
   "execution_count": 64,
   "metadata": {},
   "outputs": [
    {
     "data": {
      "text/plain": [
       "'제주특별자치도 제주시 애월읍 애월로 40'"
      ]
     },
     "execution_count": 64,
     "metadata": {},
     "output_type": "execute_result"
    }
   ],
   "source": [
    "addr = sub_soup.select_one('.txt_adr').get_text().strip()\n",
    "addr "
   ]
  },
  {
   "cell_type": "markdown",
   "metadata": {},
   "source": [
    "### 4. 페이지에 있는 데이터 가져오기 "
   ]
  },
  {
   "cell_type": "code",
   "execution_count": 65,
   "metadata": {},
   "outputs": [
    {
     "ename": "AttributeError",
     "evalue": "'NoneType' object has no attribute 'get_text'",
     "output_type": "error",
     "traceback": [
      "\u001b[1;31m---------------------------------------------------------------------------\u001b[0m",
      "\u001b[1;31mAttributeError\u001b[0m                            Traceback (most recent call last)",
      "\u001b[1;32m<ipython-input-65-6e69ff9677cd>\u001b[0m in \u001b[0;36m<module>\u001b[1;34m\u001b[0m\n\u001b[0;32m      3\u001b[0m \u001b[1;32mfor\u001b[0m \u001b[0mli\u001b[0m \u001b[1;32min\u001b[0m \u001b[0mlis\u001b[0m\u001b[1;33m:\u001b[0m\u001b[1;33m\u001b[0m\u001b[1;33m\u001b[0m\u001b[0m\n\u001b[0;32m      4\u001b[0m     \u001b[0mhref\u001b[0m \u001b[1;33m=\u001b[0m \u001b[0mli\u001b[0m\u001b[1;33m.\u001b[0m\u001b[0mfind\u001b[0m\u001b[1;33m(\u001b[0m\u001b[1;34m'a'\u001b[0m\u001b[1;33m)\u001b[0m\u001b[1;33m[\u001b[0m\u001b[1;34m'href'\u001b[0m\u001b[1;33m]\u001b[0m\u001b[1;33m\u001b[0m\u001b[1;33m\u001b[0m\u001b[0m\n\u001b[1;32m----> 5\u001b[1;33m     \u001b[0mscore\u001b[0m \u001b[1;33m=\u001b[0m \u001b[0mli\u001b[0m\u001b[1;33m.\u001b[0m\u001b[0mselect_one\u001b[0m\u001b[1;33m(\u001b[0m\u001b[1;34m'.score'\u001b[0m\u001b[1;33m)\u001b[0m\u001b[1;33m.\u001b[0m\u001b[0mget_text\u001b[0m\u001b[1;33m(\u001b[0m\u001b[1;33m)\u001b[0m\u001b[1;33m.\u001b[0m\u001b[0mstrip\u001b[0m\u001b[1;33m(\u001b[0m\u001b[1;33m)\u001b[0m\u001b[1;33m\u001b[0m\u001b[1;33m\u001b[0m\u001b[0m\n\u001b[0m\u001b[0;32m      6\u001b[0m     \u001b[0mstore\u001b[0m \u001b[1;33m=\u001b[0m \u001b[0mli\u001b[0m\u001b[1;33m.\u001b[0m\u001b[0mselect_one\u001b[0m\u001b[1;33m(\u001b[0m\u001b[1;34m'.store'\u001b[0m\u001b[1;33m)\u001b[0m\u001b[1;33m.\u001b[0m\u001b[0mget_text\u001b[0m\u001b[1;33m(\u001b[0m\u001b[1;33m)\u001b[0m\u001b[1;33m.\u001b[0m\u001b[0mstrip\u001b[0m\u001b[1;33m(\u001b[0m\u001b[1;33m)\u001b[0m\u001b[1;33m\u001b[0m\u001b[1;33m\u001b[0m\u001b[0m\n\u001b[0;32m      7\u001b[0m     \u001b[0mmenu\u001b[0m \u001b[1;33m=\u001b[0m \u001b[0mli\u001b[0m\u001b[1;33m.\u001b[0m\u001b[0mfind\u001b[0m\u001b[1;33m(\u001b[0m\u001b[1;34m'p'\u001b[0m\u001b[1;33m)\u001b[0m\u001b[1;33m.\u001b[0m\u001b[0mget_text\u001b[0m\u001b[1;33m(\u001b[0m\u001b[1;33m)\u001b[0m\u001b[1;33m.\u001b[0m\u001b[0mstrip\u001b[0m\u001b[1;33m(\u001b[0m\u001b[1;33m)\u001b[0m\u001b[1;33m\u001b[0m\u001b[1;33m\u001b[0m\u001b[0m\n",
      "\u001b[1;31mAttributeError\u001b[0m: 'NoneType' object has no attribute 'get_text'"
     ]
    }
   ],
   "source": [
    "lines = []\n",
    "\n",
    "for li in lis:\n",
    "    href = li.find('a')['href']\n",
    "    score = li.select_one('.score').get_text().strip()\n",
    "    store = li.select_one('.store').get_text().strip()\n",
    "    menu = li.find('p').get_text().strip()\n",
    "\n",
    "    sub_url = site + href\n",
    "    sub_req = requests.get(sub_url)\n",
    "    sub_html = sub_req.text \n",
    "    sub_soup = BeautifulSoup(sub_html, 'html.parser')\n",
    "\n",
    "    tel = sub_soup.select_one('.p_tel').find('p').get_text().strip()\n",
    "    addr = sub_soup.select_one('.txt_adr').get_text().strip()\n",
    "\n",
    "    lines.append([score, store, menu, tel, addr])\n",
    "\n",
    "df = pd.DataFrame(lines, columns = ['평점', '상호', '메뉴', '전화번호', '주소'])\n",
    "df\n",
    "    \n",
    "    \n",
    "    \n",
    "    "
   ]
  },
  {
   "cell_type": "code",
   "execution_count": 28,
   "metadata": {},
   "outputs": [
    {
     "ename": "AttributeError",
     "evalue": "'NoneType' object has no attribute 'string'",
     "output_type": "error",
     "traceback": [
      "\u001b[1;31m---------------------------------------------------------------------------\u001b[0m",
      "\u001b[1;31mAttributeError\u001b[0m                            Traceback (most recent call last)",
      "\u001b[1;32m<ipython-input-28-07975b08d1b7>\u001b[0m in \u001b[0;36m<module>\u001b[1;34m\u001b[0m\n\u001b[0;32m      2\u001b[0m \u001b[1;32mfor\u001b[0m \u001b[0mli\u001b[0m \u001b[1;32min\u001b[0m \u001b[0mlis\u001b[0m\u001b[1;33m:\u001b[0m\u001b[1;33m\u001b[0m\u001b[1;33m\u001b[0m\u001b[0m\n\u001b[0;32m      3\u001b[0m     \u001b[0mhref\u001b[0m \u001b[1;33m=\u001b[0m \u001b[0mli\u001b[0m\u001b[1;33m.\u001b[0m\u001b[0mfind\u001b[0m\u001b[1;33m(\u001b[0m\u001b[1;34m'a'\u001b[0m\u001b[1;33m)\u001b[0m\u001b[1;33m[\u001b[0m\u001b[1;34m'href'\u001b[0m\u001b[1;33m]\u001b[0m\u001b[1;33m\u001b[0m\u001b[1;33m\u001b[0m\u001b[0m\n\u001b[1;32m----> 4\u001b[1;33m     \u001b[0mscore\u001b[0m \u001b[1;33m=\u001b[0m \u001b[0mli\u001b[0m\u001b[1;33m.\u001b[0m\u001b[0mselect_one\u001b[0m\u001b[1;33m(\u001b[0m\u001b[1;34m'.score'\u001b[0m\u001b[1;33m)\u001b[0m\u001b[1;33m.\u001b[0m\u001b[0mstring\u001b[0m\u001b[1;33m\u001b[0m\u001b[1;33m\u001b[0m\u001b[0m\n\u001b[0m\u001b[0;32m      5\u001b[0m     \u001b[0mstore\u001b[0m \u001b[1;33m=\u001b[0m \u001b[0mli\u001b[0m\u001b[1;33m.\u001b[0m\u001b[0mselect_one\u001b[0m\u001b[1;33m(\u001b[0m\u001b[1;34m'.store'\u001b[0m\u001b[1;33m)\u001b[0m\u001b[1;33m.\u001b[0m\u001b[0mget_text\u001b[0m\u001b[1;33m(\u001b[0m\u001b[1;33m)\u001b[0m\u001b[1;33m\u001b[0m\u001b[1;33m\u001b[0m\u001b[0m\n\u001b[0;32m      6\u001b[0m     \u001b[0mmenu\u001b[0m \u001b[1;33m=\u001b[0m \u001b[0mli\u001b[0m\u001b[1;33m.\u001b[0m\u001b[0mfind\u001b[0m\u001b[1;33m(\u001b[0m\u001b[1;34m'p'\u001b[0m\u001b[1;33m)\u001b[0m\u001b[1;33m.\u001b[0m\u001b[0mget_text\u001b[0m\u001b[1;33m(\u001b[0m\u001b[1;33m)\u001b[0m\u001b[1;33m\u001b[0m\u001b[1;33m\u001b[0m\u001b[0m\n",
      "\u001b[1;31mAttributeError\u001b[0m: 'NoneType' object has no attribute 'string'"
     ]
    }
   ],
   "source": [
    "lines = []\n",
    "for li in lis:\n",
    "    href = li.find('a')['href']\n",
    "    score = li.select_one('.score').string\n",
    "    store = li.select_one('.store').get_text()\n",
    "    menu = li.find('p').get_text()\n",
    "\n",
    "    sub_url = site + href \n",
    "    sub_req = requests.get(sub_url)\n",
    "    sub_html = sub_req.text\n",
    "    sub_soup = BeautifulSoup(sub_html, 'html.parser')\n",
    "    tel = sub_soup.select_one('.p_tel').find('p').get_text()\n",
    "    addr = sub_soup.select_one('.txt_adr').get_text()\n",
    "\n",
    "    lines.append([score, store, menu, tel, addr])\n"
   ]
  },
  {
   "cell_type": "code",
   "execution_count": 30,
   "metadata": {},
   "outputs": [
    {
     "name": "stdout",
     "output_type": "stream",
     "text": [
      "0\n"
     ]
    }
   ],
   "source": [
    "# try - except를 이용해서 어디에서 에러가 발생했는지 확인 \n",
    "\n",
    "lines = []\n",
    "for index, li in enumerate(lis):\n",
    "    try:\n",
    "        href = li.find('a')['href']\n",
    "        score = li.select_one('.score').string\n",
    "        store = li.select_one('.store').get_text()\n",
    "        menu = li.find('p').get_text()\n",
    "\n",
    "        sub_url = site + href \n",
    "        sub_req = requests.get(sub_url)\n",
    "        sub_html = sub_req.text\n",
    "        sub_soup = BeautifulSoup(sub_html, 'html.parser')\n",
    "        tel = sub_soup.select_one('.p_tel').find('p').get_text()\n",
    "        addr = sub_soup.select_one('.txt_adr').get_text()\n",
    "    except:\n",
    "        print(index)\n",
    "\n",
    "    lines.append([score, store, menu, tel, addr])\n",
    "\n",
    "    # score 인덱스 0에서 에러 생김 \n",
    "    # try except 예외처리를 이용해서 디버깅 잡아내기 \n"
   ]
  },
  {
   "cell_type": "markdown",
   "metadata": {},
   "source": [
    "### 5. 에러 난 부분을 처리할 수 있도록 수정 "
   ]
  },
  {
   "cell_type": "code",
   "execution_count": 70,
   "metadata": {},
   "outputs": [
    {
     "ename": "AttributeError",
     "evalue": "'NoneType' object has no attribute 'string'",
     "output_type": "error",
     "traceback": [
      "\u001b[1;31m---------------------------------------------------------------------------\u001b[0m",
      "\u001b[1;31mAttributeError\u001b[0m                            Traceback (most recent call last)",
      "\u001b[1;32m<ipython-input-70-3c708dfc58f0>\u001b[0m in \u001b[0;36m<module>\u001b[1;34m\u001b[0m\n\u001b[0;32m      1\u001b[0m \u001b[0mli\u001b[0m \u001b[1;33m=\u001b[0m \u001b[0mlis\u001b[0m\u001b[1;33m[\u001b[0m\u001b[1;36m0\u001b[0m\u001b[1;33m]\u001b[0m\u001b[1;33m\u001b[0m\u001b[1;33m\u001b[0m\u001b[0m\n\u001b[1;32m----> 2\u001b[1;33m \u001b[0mscore\u001b[0m \u001b[1;33m=\u001b[0m \u001b[0mli\u001b[0m\u001b[1;33m.\u001b[0m\u001b[0mselect_one\u001b[0m\u001b[1;33m(\u001b[0m\u001b[1;34m'.score'\u001b[0m\u001b[1;33m)\u001b[0m\u001b[1;33m.\u001b[0m\u001b[0mstring\u001b[0m\u001b[1;33m\u001b[0m\u001b[1;33m\u001b[0m\u001b[0m\n\u001b[0m\u001b[0;32m      3\u001b[0m \u001b[0mscore\u001b[0m\u001b[1;33m\u001b[0m\u001b[1;33m\u001b[0m\u001b[0m\n\u001b[0;32m      4\u001b[0m \u001b[1;33m\u001b[0m\u001b[0m\n\u001b[0;32m      5\u001b[0m \u001b[1;31m# li에 score가 없기 때문에 에러가 남\u001b[0m\u001b[1;33m\u001b[0m\u001b[1;33m\u001b[0m\u001b[1;33m\u001b[0m\u001b[0m\n",
      "\u001b[1;31mAttributeError\u001b[0m: 'NoneType' object has no attribute 'string'"
     ]
    }
   ],
   "source": [
    "li = lis[0]\n",
    "score = li.select_one('.score').string\n",
    "score\n",
    "\n",
    "# li에 score가 없기 때문에 에러가 남 \n"
   ]
  },
  {
   "cell_type": "code",
   "execution_count": 76,
   "metadata": {},
   "outputs": [
    {
     "data": {
      "text/plain": [
       "'평가중'"
      ]
     },
     "execution_count": 76,
     "metadata": {},
     "output_type": "execute_result"
    }
   ],
   "source": [
    "li = lis[0]\n",
    "score = li.select_one('.cnt > em').get_text()\n",
    "score\n"
   ]
  },
  {
   "cell_type": "code",
   "execution_count": 34,
   "metadata": {},
   "outputs": [
    {
     "data": {
      "text/plain": [
       "'3.4'"
      ]
     },
     "execution_count": 34,
     "metadata": {},
     "output_type": "execute_result"
    }
   ],
   "source": [
    "lis[1].select_one('.cnt > em').get_text()       # 같은 식으로 인덱스 0,1 둘다 돌아감 확인"
   ]
  },
  {
   "cell_type": "markdown",
   "metadata": {},
   "source": [
    "### 에러가 해결될 때까지 5,6을 반복 "
   ]
  },
  {
   "cell_type": "code",
   "execution_count": 36,
   "metadata": {},
   "outputs": [],
   "source": [
    "# 여기 다시 보고 하세요. 필기 틀렸습니다. "
   ]
  },
  {
   "cell_type": "code",
   "execution_count": 82,
   "metadata": {},
   "outputs": [],
   "source": [
    "lines = []\n",
    "\n",
    "for li in lis:\n",
    "    href = li.find('a')['href']\n",
    "    store = li.select_one('.store').get_text()\n",
    "    score = li.select_one('.cnt > em').get_text()\n",
    "    if score == '평가중':\n",
    "        score == 0.0\n",
    "    menu = li.find('p').get_text()\n",
    "\n",
    "    sub_url = site + href \n",
    "    sub_req = requests.get(sub_url)\n",
    "    sub_html = sub_req.text\n",
    "    sub_soup = BeautifulSoup(sub_html, 'html.parser')\n",
    "    tel = sub_soup.select_one('.p_tel').find('p').get_text()\n",
    "    addr = sub_soup.select_one('.txt_adr').get_text()\n",
    "\n",
    "    lines.append([store, score, menu, tel, addr])\n"
   ]
  },
  {
   "cell_type": "markdown",
   "metadata": {},
   "source": [
    "### 7. 데이터 프레임으로 만들기"
   ]
  },
  {
   "cell_type": "code",
   "execution_count": 83,
   "metadata": {},
   "outputs": [
    {
     "data": {
      "text/html": [
       "<div>\n",
       "<style scoped>\n",
       "    .dataframe tbody tr th:only-of-type {\n",
       "        vertical-align: middle;\n",
       "    }\n",
       "\n",
       "    .dataframe tbody tr th {\n",
       "        vertical-align: top;\n",
       "    }\n",
       "\n",
       "    .dataframe thead th {\n",
       "        text-align: right;\n",
       "    }\n",
       "</style>\n",
       "<table border=\"1\" class=\"dataframe\">\n",
       "  <thead>\n",
       "    <tr style=\"text-align: right;\">\n",
       "      <th></th>\n",
       "      <th>업소명</th>\n",
       "      <th>평점</th>\n",
       "      <th>메뉴</th>\n",
       "      <th>전화번호</th>\n",
       "      <th>주소</th>\n",
       "    </tr>\n",
       "  </thead>\n",
       "  <tbody>\n",
       "    <tr>\n",
       "      <th>0</th>\n",
       "      <td>제주시새우리</td>\n",
       "      <td>평가중</td>\n",
       "      <td>딱새우김밥, 간장새우김밥, 양념새우컵밥, 딱새우꼬막무침, 한라봉에이드</td>\n",
       "      <td>064-900-2527</td>\n",
       "      <td>제주특별자치도 제주시 무근성7길 21</td>\n",
       "    </tr>\n",
       "    <tr>\n",
       "      <th>1</th>\n",
       "      <td>안양돈까스 제주시점</td>\n",
       "      <td>3.4</td>\n",
       "      <td>돈까스 세트, 치즈돈까스 세트</td>\n",
       "      <td>064-799-1434</td>\n",
       "      <td>제주특별자치도 제주시 애월읍 애월로 40</td>\n",
       "    </tr>\n",
       "    <tr>\n",
       "      <th>2</th>\n",
       "      <td>올래국수</td>\n",
       "      <td>3.8</td>\n",
       "      <td>고기국수</td>\n",
       "      <td>064-742-7355</td>\n",
       "      <td>제주특별자치도 제주시 귀아랑길 24</td>\n",
       "    </tr>\n",
       "    <tr>\n",
       "      <th>3</th>\n",
       "      <td>명진전복</td>\n",
       "      <td>3.8</td>\n",
       "      <td>전복죽, 전복돌솥밥, 전복구이, 전복회</td>\n",
       "      <td>064-782-9944</td>\n",
       "      <td>제주특별자치도 제주시 구좌읍 해맞이해안로 1282</td>\n",
       "    </tr>\n",
       "    <tr>\n",
       "      <th>4</th>\n",
       "      <td>삼성혈해물탕</td>\n",
       "      <td>3.9</td>\n",
       "      <td>해물탕(특대), 해물탕(대), 해물탕(중), 해물탕(소), 전복회(소)</td>\n",
       "      <td>064-745-3000</td>\n",
       "      <td>제주특별자치도 제주시 선덕로5길 20</td>\n",
       "    </tr>\n",
       "  </tbody>\n",
       "</table>\n",
       "</div>"
      ],
      "text/plain": [
       "          업소명   평점                                       메뉴          전화번호  \\\n",
       "0      제주시새우리  평가중   딱새우김밥, 간장새우김밥, 양념새우컵밥, 딱새우꼬막무침, 한라봉에이드  064-900-2527   \n",
       "1  안양돈까스 제주시점  3.4                         돈까스 세트, 치즈돈까스 세트  064-799-1434   \n",
       "2        올래국수  3.8                                     고기국수  064-742-7355   \n",
       "3        명진전복  3.8                    전복죽, 전복돌솥밥, 전복구이, 전복회  064-782-9944   \n",
       "4      삼성혈해물탕  3.9  해물탕(특대), 해물탕(대), 해물탕(중), 해물탕(소), 전복회(소)  064-745-3000   \n",
       "\n",
       "                            주소  \n",
       "0         제주특별자치도 제주시 무근성7길 21  \n",
       "1       제주특별자치도 제주시 애월읍 애월로 40  \n",
       "2          제주특별자치도 제주시 귀아랑길 24  \n",
       "3  제주특별자치도 제주시 구좌읍 해맞이해안로 1282  \n",
       "4         제주특별자치도 제주시 선덕로5길 20  "
      ]
     },
     "execution_count": 83,
     "metadata": {},
     "output_type": "execute_result"
    }
   ],
   "source": [
    "df = pd.DataFrame(lines, columns=['업소명','평점', '메뉴','전화번호','주소'])\n",
    "df.head()"
   ]
  },
  {
   "cell_type": "code",
   "execution_count": 84,
   "metadata": {},
   "outputs": [],
   "source": [
    "df.to_csv('식신맛집(제주시청).csv', index = False)"
   ]
  }
 ],
 "metadata": {
  "interpreter": {
   "hash": "d990e0f5c79ab62bfe20220d5fc8769a25e3da57dce2813cc13c29871ddc1bfb"
  },
  "kernelspec": {
   "display_name": "Python 3.8.8 64-bit ('base': conda)",
   "language": "python",
   "name": "python3"
  },
  "language_info": {
   "codemirror_mode": {
    "name": "ipython",
    "version": 3
   },
   "file_extension": ".py",
   "mimetype": "text/x-python",
   "name": "python",
   "nbconvert_exporter": "python",
   "pygments_lexer": "ipython3",
   "version": "3.8.8"
  },
  "orig_nbformat": 4
 },
 "nbformat": 4,
 "nbformat_minor": 2
}
