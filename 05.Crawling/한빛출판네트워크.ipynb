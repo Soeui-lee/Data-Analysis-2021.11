{
 "cells": [
  {
   "cell_type": "markdown",
   "metadata": {},
   "source": [
    "# 한빛출판네트워크"
   ]
  },
  {
   "cell_type": "code",
   "execution_count": 33,
   "metadata": {},
   "outputs": [],
   "source": [
    "import requests\n",
    "from urllib.parse import quote\n",
    "import pandas as pd\n",
    "from bs4 import BeautifulSoup"
   ]
  },
  {
   "cell_type": "markdown",
   "metadata": {},
   "source": [
    "### 1. 데이터 가져오기"
   ]
  },
  {
   "cell_type": "code",
   "execution_count": 34,
   "metadata": {},
   "outputs": [],
   "source": [
    "site = 'https://www.hanbit.co.kr'\n",
    "url = 'https://www.hanbit.co.kr/store/books/new_book_list.html'\n",
    "req = requests.get(url)\n",
    "html = req.text\n",
    "soup = BeautifulSoup(html, 'html.parser')"
   ]
  },
  {
   "cell_type": "markdown",
   "metadata": {},
   "source": [
    "### 찾으려는 데이터의 태그찾기"
   ]
  },
  {
   "cell_type": "code",
   "execution_count": 35,
   "metadata": {},
   "outputs": [
    {
     "data": {
      "text/plain": [
       "20"
      ]
     },
     "execution_count": 35,
     "metadata": {},
     "output_type": "execute_result"
    }
   ],
   "source": [
    "lis = soup.select_one('.sub_book_list_area').find_all('li')\n",
    "len(lis)"
   ]
  },
  {
   "cell_type": "markdown",
   "metadata": {},
   "source": [
    "### 하나의 데이터 선택해서 원하는 정보 추출하기"
   ]
  },
  {
   "cell_type": "markdown",
   "metadata": {},
   "source": [
    "- 제목, 저자, 역자, 출간일, 페이지, 정가, 판가, 마일리지"
   ]
  },
  {
   "cell_type": "code",
   "execution_count": 36,
   "metadata": {},
   "outputs": [],
   "source": [
    "li = lis[0]"
   ]
  },
  {
   "cell_type": "code",
   "execution_count": 37,
   "metadata": {},
   "outputs": [
    {
     "data": {
      "text/plain": [
       "'/store/books/look.php?p_code=B6694310162'"
      ]
     },
     "execution_count": 37,
     "metadata": {},
     "output_type": "execute_result"
    }
   ],
   "source": [
    "li = lis[0]\n",
    "href = li.find('a')['href']\n",
    "href"
   ]
  },
  {
   "cell_type": "code",
   "execution_count": 39,
   "metadata": {},
   "outputs": [
    {
     "data": {
      "text/plain": [
       "'하루 한 장 초등과학 365'"
      ]
     },
     "execution_count": 39,
     "metadata": {},
     "output_type": "execute_result"
    }
   ],
   "source": [
    "# 제목\n",
    "title = li.select('.info > p')[0].get_text().strip()\n",
    "title "
   ]
  },
  {
   "cell_type": "code",
   "execution_count": 40,
   "metadata": {},
   "outputs": [
    {
     "data": {
      "text/plain": [
       "'치바 가즈요시'"
      ]
     },
     "execution_count": 40,
     "metadata": {},
     "output_type": "execute_result"
    }
   ],
   "source": [
    "# 저자 \n",
    "author = li.select('.info > p')[1].get_text().strip()\n",
    "author "
   ]
  },
  {
   "cell_type": "markdown",
   "metadata": {},
   "source": [
    "### sub 페이지에서 정보추출"
   ]
  },
  {
   "cell_type": "markdown",
   "metadata": {},
   "source": [
    "- 역자, 출간일, 페이지, 정가, 판가, 마일리지"
   ]
  },
  {
   "cell_type": "code",
   "execution_count": 41,
   "metadata": {},
   "outputs": [
    {
     "data": {
      "text/plain": [
       "'https://www.hanbit.co.kr/store/books/look.php?p_code=B6694310162'"
      ]
     },
     "execution_count": 41,
     "metadata": {},
     "output_type": "execute_result"
    }
   ],
   "source": [
    "sub_url = site + href \n",
    "sub_url"
   ]
  },
  {
   "cell_type": "code",
   "execution_count": 42,
   "metadata": {},
   "outputs": [],
   "source": [
    "sub_req = requests.get(sub_url)\n",
    "sub_html = sub_req.text\n",
    "sub_soup = BeautifulSoup(sub_html, 'html.parser')"
   ]
  },
  {
   "cell_type": "code",
   "execution_count": 43,
   "metadata": {},
   "outputs": [
    {
     "data": {
      "text/plain": [
       "[<li><strong>저자 : </strong><span>치바 가즈요시 </span></li>,\n",
       " <li><strong>번역 : </strong><span>허영은 , 유우종 (감수) </span></li>,\n",
       " <li><strong>출간 : </strong><span>2021-12-14</span></li>,\n",
       " <li><strong>페이지 : </strong><span>416 쪽</span></li>,\n",
       " <li><strong>ISBN : </strong><span>9791190846295</span></li>,\n",
       " <li><strong>물류코드 :</strong><span>5329</span></li>]"
      ]
     },
     "execution_count": 43,
     "metadata": {},
     "output_type": "execute_result"
    }
   ],
   "source": [
    "# 역자 \n",
    "sub_soup.select('.info_list > li')"
   ]
  },
  {
   "cell_type": "code",
   "execution_count": 44,
   "metadata": {},
   "outputs": [
    {
     "data": {
      "text/plain": [
       "6"
      ]
     },
     "execution_count": 44,
     "metadata": {},
     "output_type": "execute_result"
    }
   ],
   "source": [
    "sub_lis = sub_soup.select('.info_list > li')\n",
    "len(sub_lis)"
   ]
  },
  {
   "cell_type": "code",
   "execution_count": 66,
   "metadata": {},
   "outputs": [
    {
     "data": {
      "text/plain": [
       "'출간 : 2021-12-10'"
      ]
     },
     "execution_count": 66,
     "metadata": {},
     "output_type": "execute_result"
    }
   ],
   "source": [
    "# 역자( dict으로 만들어서 번역 키 값이 있으면~없으면~ )\n",
    "sub_list = sub_soup.select('.info_list > li')[1].get_text()\n",
    "# lux = dict(sub_soup.select('.info_list > li'))\n",
    "# lux\n",
    "sub_list"
   ]
  },
  {
   "cell_type": "code",
   "execution_count": 62,
   "metadata": {},
   "outputs": [
    {
     "data": {
      "text/plain": [
       "'허영은 , 유우종 (감수) '"
      ]
     },
     "execution_count": 62,
     "metadata": {},
     "output_type": "execute_result"
    }
   ],
   "source": [
    "# 역자\n",
    "if sub_list[:2] == '번역':\n",
    "    trans = sub_soup.select('.info_list > li')[1].get_text()[5:]\n",
    "else: \n",
    "    trans = print('.')\n",
    "trans\n"
   ]
  },
  {
   "cell_type": "code",
   "execution_count": 14,
   "metadata": {},
   "outputs": [
    {
     "data": {
      "text/plain": [
       "20211214"
      ]
     },
     "execution_count": 14,
     "metadata": {},
     "output_type": "execute_result"
    }
   ],
   "source": [
    "# 출간일 \n",
    "date = sub_lis[2].get_text().split(':')[1]\n",
    "date = int(date.replace('-',''))\n",
    "date"
   ]
  },
  {
   "cell_type": "code",
   "execution_count": 15,
   "metadata": {},
   "outputs": [
    {
     "data": {
      "text/plain": [
       "416"
      ]
     },
     "execution_count": 15,
     "metadata": {},
     "output_type": "execute_result"
    }
   ],
   "source": [
    "# 페이지 \n",
    "page = sub_lis[3].get_text().split(':')[1]\n",
    "page = int(page.replace('쪽',''))\n",
    "page"
   ]
  },
  {
   "cell_type": "code",
   "execution_count": 16,
   "metadata": {},
   "outputs": [
    {
     "data": {
      "text/plain": [
       "[<p><span class=\"pbl\">정가 : </span><span class=\"pbr\"><del>19,800원</del></span></p>,\n",
       " <p><span class=\"pbl\"><strong>판매가 : </strong></span><span class=\"pbr\"><strong>17,820</strong>원<span>(10% off)</span></span></p>,\n",
       " <p><span class=\"pbl\">마일리지 : </span><span class=\"pbr\">990점 (5%)</span></p>]"
      ]
     },
     "execution_count": 16,
     "metadata": {},
     "output_type": "execute_result"
    }
   ],
   "source": [
    "sub_soup.select_one('.payment_box.curr').find_all('p')"
   ]
  },
  {
   "cell_type": "code",
   "execution_count": 17,
   "metadata": {},
   "outputs": [
    {
     "data": {
      "text/plain": [
       "[<p><span class=\"pbl\">정가 : </span><span class=\"pbr\"><del>19,800원</del></span></p>,\n",
       " <p><span class=\"pbl\"><strong>판매가 : </strong></span><span class=\"pbr\"><strong>17,820</strong>원<span>(10% off)</span></span></p>,\n",
       " <p><span class=\"pbl\">마일리지 : </span><span class=\"pbr\">990점 (5%)</span></p>]"
      ]
     },
     "execution_count": 17,
     "metadata": {},
     "output_type": "execute_result"
    }
   ],
   "source": [
    "# 정가 \n",
    "sub_lis2 = sub_soup.select_one('.payment_box.curr').find_all('p')\n",
    "sub_lis2"
   ]
  },
  {
   "cell_type": "code",
   "execution_count": 18,
   "metadata": {},
   "outputs": [
    {
     "data": {
      "text/plain": [
       "' 19,800원'"
      ]
     },
     "execution_count": 18,
     "metadata": {},
     "output_type": "execute_result"
    }
   ],
   "source": [
    "# 정가\n",
    "ori_price = sub_lis2[0].get_text().split(':')[1]\n",
    "ori_price"
   ]
  },
  {
   "cell_type": "code",
   "execution_count": 19,
   "metadata": {},
   "outputs": [
    {
     "data": {
      "text/plain": [
       "'19800'"
      ]
     },
     "execution_count": 19,
     "metadata": {},
     "output_type": "execute_result"
    }
   ],
   "source": [
    "import re\n",
    "re.sub('[^0-9]','',ori_price)"
   ]
  },
  {
   "cell_type": "code",
   "execution_count": 20,
   "metadata": {},
   "outputs": [
    {
     "data": {
      "text/plain": [
       "17820"
      ]
     },
     "execution_count": 20,
     "metadata": {},
     "output_type": "execute_result"
    }
   ],
   "source": [
    "# 판가\n",
    "price = sub_lis2[1].get_text().split(':')[1]\n",
    "price = price.split('원')[0]\n",
    "price = int(price.replace(',',''))\n",
    "price"
   ]
  },
  {
   "cell_type": "code",
   "execution_count": 21,
   "metadata": {},
   "outputs": [
    {
     "data": {
      "text/plain": [
       "'10% off'"
      ]
     },
     "execution_count": 21,
     "metadata": {},
     "output_type": "execute_result"
    }
   ],
   "source": [
    "# 할인율 \n",
    "off = sub_lis2[1].get_text().split(':')[1]\n",
    "off = off.split('원')[1][1:-1]\n",
    "off\n"
   ]
  },
  {
   "cell_type": "code",
   "execution_count": 22,
   "metadata": {},
   "outputs": [],
   "source": [
    "# 이걸 어떻게 처리하면 좋을까... "
   ]
  },
  {
   "cell_type": "code",
   "execution_count": 23,
   "metadata": {},
   "outputs": [
    {
     "data": {
      "text/plain": [
       "990"
      ]
     },
     "execution_count": 23,
     "metadata": {},
     "output_type": "execute_result"
    }
   ],
   "source": [
    "# 마일리지 \n",
    "mile = sub_lis2[2].get_text().split(':')[1]\n",
    "mile = int(mile.split('점')[0])\n",
    "mile\n"
   ]
  },
  {
   "cell_type": "code",
   "execution_count": 24,
   "metadata": {},
   "outputs": [
    {
     "data": {
      "text/plain": [
       "'5%'"
      ]
     },
     "execution_count": 24,
     "metadata": {},
     "output_type": "execute_result"
    }
   ],
   "source": [
    "# 적립율\n",
    "pct = sub_lis2[2].get_text().split(':')[1]\n",
    "pct.split('점')[1][2:-1]\n"
   ]
  },
  {
   "cell_type": "markdown",
   "metadata": {},
   "source": [
    "### 페이지에 있는 전체 데이터 가져오기"
   ]
  },
  {
   "cell_type": "markdown",
   "metadata": {},
   "source": [
    "- 1페이지"
   ]
  },
  {
   "cell_type": "code",
   "execution_count": 68,
   "metadata": {},
   "outputs": [
    {
     "name": "stdout",
     "output_type": "stream",
     "text": [
      ".\n",
      ".\n",
      ".\n",
      ".\n",
      ".\n",
      ".\n",
      ".\n",
      ".\n",
      ".\n",
      ".\n",
      ".\n",
      ".\n",
      ".\n",
      ".\n",
      ".\n",
      ".\n",
      ".\n",
      ".\n",
      ".\n",
      ".\n"
     ]
    },
    {
     "data": {
      "text/html": [
       "<div>\n",
       "<style scoped>\n",
       "    .dataframe tbody tr th:only-of-type {\n",
       "        vertical-align: middle;\n",
       "    }\n",
       "\n",
       "    .dataframe tbody tr th {\n",
       "        vertical-align: top;\n",
       "    }\n",
       "\n",
       "    .dataframe thead th {\n",
       "        text-align: right;\n",
       "    }\n",
       "</style>\n",
       "<table border=\"1\" class=\"dataframe\">\n",
       "  <thead>\n",
       "    <tr style=\"text-align: right;\">\n",
       "      <th></th>\n",
       "      <th>제목</th>\n",
       "      <th>저자</th>\n",
       "      <th>역자</th>\n",
       "      <th>출간일</th>\n",
       "      <th>페이지</th>\n",
       "      <th>정가</th>\n",
       "      <th>판가</th>\n",
       "      <th>할인율</th>\n",
       "      <th>마일리지</th>\n",
       "      <th>적립율</th>\n",
       "    </tr>\n",
       "  </thead>\n",
       "  <tbody>\n",
       "    <tr>\n",
       "      <th>0</th>\n",
       "      <td>하루 한 장 초등과학 365</td>\n",
       "      <td>치바 가즈요시</td>\n",
       "      <td>None</td>\n",
       "      <td>허영은 , 유우종 (감수)</td>\n",
       "      <td>2021-12-14</td>\n",
       "      <td>19800</td>\n",
       "      <td>17820</td>\n",
       "      <td>10% off</td>\n",
       "      <td>990점 (5%)</td>\n",
       "      <td>5%</td>\n",
       "    </tr>\n",
       "    <tr>\n",
       "      <th>1</th>\n",
       "      <td>다시, 배우다</td>\n",
       "      <td>폴 김</td>\n",
       "      <td>None</td>\n",
       "      <td>2021-12-10</td>\n",
       "      <td>304 쪽</td>\n",
       "      <td>16000</td>\n",
       "      <td>14400</td>\n",
       "      <td>10% off</td>\n",
       "      <td>800점 (5%)</td>\n",
       "      <td>5%</td>\n",
       "    </tr>\n",
       "    <tr>\n",
       "      <th>2</th>\n",
       "      <td>당당한 디자인 결정을 위한 9가지 방법</td>\n",
       "      <td>톰 그리버</td>\n",
       "      <td>None</td>\n",
       "      <td>김민성 , 곽서희</td>\n",
       "      <td>2021-12-10</td>\n",
       "      <td>22000</td>\n",
       "      <td>19800</td>\n",
       "      <td>10% off</td>\n",
       "      <td>1,100점 (5%)</td>\n",
       "      <td>5%</td>\n",
       "    </tr>\n",
       "    <tr>\n",
       "      <th>3</th>\n",
       "      <td>365 부모 말하기 연습 일력(스프링북)</td>\n",
       "      <td>박재연 , 공인영</td>\n",
       "      <td>None</td>\n",
       "      <td>2021-12-01</td>\n",
       "      <td>384 쪽</td>\n",
       "      <td>18000</td>\n",
       "      <td>16200</td>\n",
       "      <td>10% off</td>\n",
       "      <td>900점 (5%)</td>\n",
       "      <td>5%</td>\n",
       "    </tr>\n",
       "    <tr>\n",
       "      <th>4</th>\n",
       "      <td>공학도를 위한 수치해석(8판)</td>\n",
       "      <td>Steven C.Chapra , Raymond P. Canale</td>\n",
       "      <td>None</td>\n",
       "      <td>나양 , 이승배 , 임윤철</td>\n",
       "      <td>2021-11-30</td>\n",
       "      <td>36000</td>\n",
       "      <td>36000</td>\n",
       "      <td>0% off</td>\n",
       "      <td>1,080점 (3%)</td>\n",
       "      <td>3%</td>\n",
       "    </tr>\n",
       "  </tbody>\n",
       "</table>\n",
       "</div>"
      ],
      "text/plain": [
       "                       제목                                   저자    역자  \\\n",
       "0         하루 한 장 초등과학 365                              치바 가즈요시  None   \n",
       "1                 다시, 배우다                                  폴 김  None   \n",
       "2   당당한 디자인 결정을 위한 9가지 방법                                톰 그리버  None   \n",
       "3  365 부모 말하기 연습 일력(스프링북)                            박재연 , 공인영  None   \n",
       "4        공학도를 위한 수치해석(8판)  Steven C.Chapra , Raymond P. Canale  None   \n",
       "\n",
       "                출간일          페이지     정가     판가      할인율          마일리지 적립율  \n",
       "0   허영은 , 유우종 (감수)    2021-12-14  19800  17820  10% off     990점 (5%)  5%  \n",
       "1        2021-12-10        304 쪽  16000  14400  10% off     800점 (5%)  5%  \n",
       "2        김민성 , 곽서희    2021-12-10  22000  19800  10% off   1,100점 (5%)  5%  \n",
       "3        2021-12-01        384 쪽  18000  16200  10% off     900점 (5%)  5%  \n",
       "4   나양 , 이승배 , 임윤철    2021-11-30  36000  36000   0% off   1,080점 (3%)  3%  "
      ]
     },
     "execution_count": 68,
     "metadata": {},
     "output_type": "execute_result"
    }
   ],
   "source": [
    "lines = []\n",
    "for li in lis : \n",
    "    title = li.select('.info > p')[0].get_text().strip()\n",
    "    author = li.select('.info > p')[1].get_text().strip()\n",
    "    href = li.find('a')['href']     # href 지정!! \n",
    "\n",
    "    sub_url = site + href \n",
    "    sub_req = requests.get(sub_url)\n",
    "    sub_html = sub_req.text\n",
    "    sub_soup = BeautifulSoup(sub_html, 'html.parser')\n",
    "    sub_lis = sub_soup.select('.info_list > li')\n",
    "    sub_lis2 = sub_soup.select_one('.payment_box.curr').find_all('p')\n",
    "\n",
    "\n",
    "    if sub_list[:2] == '번역':\n",
    "        trans = sub_soup.select('.info_list > li')[1].get_text()[5:]\n",
    "        date = sub_lis[2].get_text().split(':')[1]\n",
    "        # date = int(date.replace('-',''))\n",
    "        page = sub_lis[3].get_text().split(':')[1]\n",
    "        # page = int(page.replace('쪽',''))\n",
    "    else: \n",
    "        trans = print('.')\n",
    "        date = sub_lis[1].get_text().split(':')[1]\n",
    "        # date = int(date.replace('-',''))\n",
    "        page = sub_lis[2].get_text().split(':')[1]\n",
    "        # page = int(page.replace('쪽',''))\n",
    "\n",
    "\n",
    "    \n",
    "\n",
    "    ori_price = sub_lis2[0].get_text().split(':')[1]\n",
    "    ori_price = re.sub('[^0-9]','',ori_price)\n",
    "\n",
    "    price = sub_lis2[1].get_text().split(':')[1]\n",
    "    price = price.split('원')[0]\n",
    "    price = int(price.replace(',',''))\n",
    "\n",
    "    off = sub_lis2[1].get_text().split(':')[1]\n",
    "    off = off.split('원')[1][1:-1]\n",
    "\n",
    "    mile = sub_lis2[2].get_text().split(':')[1]\n",
    "    # mile = int(mile.split('점')[0])\n",
    "    \n",
    "    pct = sub_lis2[2].get_text().split(':')[1]\n",
    "    pct = pct.split('점')[1][2:-1]\n",
    "\n",
    "\n",
    "\n",
    "\n",
    "    lines.append([title, author, trans, date, page, ori_price, price, off, mile, pct])\n",
    "    \n",
    "df = pd.DataFrame(lines, columns = ['제목', '저자', '역자', '출간일', '페이지', '정가', '판가','할인율','마일리지', '적립율'])\n",
    "df.head()\n",
    "\n",
    "   \n",
    "    \n",
    "    \n",
    "    \n"
   ]
  },
  {
   "cell_type": "code",
   "execution_count": null,
   "metadata": {},
   "outputs": [],
   "source": []
  }
 ],
 "metadata": {
  "interpreter": {
   "hash": "d990e0f5c79ab62bfe20220d5fc8769a25e3da57dce2813cc13c29871ddc1bfb"
  },
  "kernelspec": {
   "display_name": "Python 3.8.8 64-bit ('base': conda)",
   "language": "python",
   "name": "python3"
  },
  "language_info": {
   "codemirror_mode": {
    "name": "ipython",
    "version": 3
   },
   "file_extension": ".py",
   "mimetype": "text/x-python",
   "name": "python",
   "nbconvert_exporter": "python",
   "pygments_lexer": "ipython3",
   "version": "3.8.8"
  },
  "orig_nbformat": 4
 },
 "nbformat": 4,
 "nbformat_minor": 2
}
