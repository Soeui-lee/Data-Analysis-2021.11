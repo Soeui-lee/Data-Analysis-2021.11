{
 "cells": [
  {
   "cell_type": "markdown",
   "metadata": {},
   "source": [
    "# 한빛출판네트워크"
   ]
  },
  {
   "cell_type": "code",
   "execution_count": 1,
   "metadata": {},
   "outputs": [],
   "source": [
    "import requests\n",
    "from urllib.parse import quote\n",
    "import pandas as pd\n",
    "from bs4 import BeautifulSoup"
   ]
  },
  {
   "cell_type": "markdown",
   "metadata": {},
   "source": [
    "### 1. 데이터 가져오기"
   ]
  },
  {
   "cell_type": "code",
   "execution_count": 2,
   "metadata": {},
   "outputs": [],
   "source": [
    "site = 'https://www.hanbit.co.kr'\n",
    "url = 'https://www.hanbit.co.kr/store/books/new_book_list.html'\n",
    "req = requests.get(url)\n",
    "html = req.text\n",
    "soup = BeautifulSoup(html, 'html.parser')"
   ]
  },
  {
   "cell_type": "markdown",
   "metadata": {},
   "source": [
    "### 찾으려는 데이터의 태그찾기"
   ]
  },
  {
   "cell_type": "code",
   "execution_count": 3,
   "metadata": {},
   "outputs": [
    {
     "data": {
      "text/plain": [
       "20"
      ]
     },
     "execution_count": 3,
     "metadata": {},
     "output_type": "execute_result"
    }
   ],
   "source": [
    "lis = soup.select_one('.sub_book_list_area').find_all('li')\n",
    "len(lis)"
   ]
  },
  {
   "cell_type": "markdown",
   "metadata": {},
   "source": [
    "### 하나의 데이터 선택해서 원하는 정보 추출하기"
   ]
  },
  {
   "cell_type": "markdown",
   "metadata": {},
   "source": [
    "- 제목, 저자, 역자, 출간일, 페이지, 정가, 판가, 마일리지"
   ]
  },
  {
   "cell_type": "code",
   "execution_count": 4,
   "metadata": {},
   "outputs": [],
   "source": [
    "li = lis[0]"
   ]
  },
  {
   "cell_type": "code",
   "execution_count": 5,
   "metadata": {},
   "outputs": [
    {
     "data": {
      "text/plain": [
       "'/store/books/look.php?p_code=B6694310162'"
      ]
     },
     "execution_count": 5,
     "metadata": {},
     "output_type": "execute_result"
    }
   ],
   "source": [
    "li = lis[0]\n",
    "href = li.find('a')['href']\n",
    "href"
   ]
  },
  {
   "cell_type": "markdown",
   "metadata": {},
   "source": [
    "### sub 페이지에서 정보추출"
   ]
  },
  {
   "cell_type": "markdown",
   "metadata": {},
   "source": [
    "- 역자, 출간일, 페이지, 정가, 판가, 마일리지"
   ]
  },
  {
   "cell_type": "markdown",
   "metadata": {},
   "source": [
    "- 제목, 저자도 sub에서 꺼내기"
   ]
  },
  {
   "cell_type": "code",
   "execution_count": 6,
   "metadata": {},
   "outputs": [
    {
     "data": {
      "text/plain": [
       "'https://www.hanbit.co.kr/store/books/look.php?p_code=B6694310162'"
      ]
     },
     "execution_count": 6,
     "metadata": {},
     "output_type": "execute_result"
    }
   ],
   "source": [
    "sub_url = site + href \n",
    "sub_url"
   ]
  },
  {
   "cell_type": "code",
   "execution_count": 7,
   "metadata": {},
   "outputs": [],
   "source": [
    "sub_req = requests.get(sub_url)\n",
    "sub_html = sub_req.text\n",
    "sub_soup = BeautifulSoup(sub_html, 'html.parser')"
   ]
  },
  {
   "cell_type": "code",
   "execution_count": 9,
   "metadata": {},
   "outputs": [
    {
     "data": {
      "text/plain": [
       "<div class=\"store_product_info_box\">\n",
       "<h3>하루 한 장 초등과학 365</h3>\n",
       "<p class=\"stit\">과학과 친해지는 탐구생활 교과서</p>\n",
       "<div class=\"info_area\">\n",
       "<div class=\"info_ico\">\n",
       "<p class=\"ico_l\">한빛라이프</p>\n",
       "<p class=\"ico_book2\">번역서</p>\n",
       "<p class=\"ico_shopping1\">판매중</p>\n",
       "</div>\n",
       "<div class=\"sns_ico\">\n",
       "<span class=\"ico_facebook\"><a href=\"https://www.facebook.com/share.php?u=https://www.hanbit.co.kr/store/books/look.php?p_code=B6694310162\" target=\"_blank\">페이스북 퍼가기</a></span>\n",
       "<!-- <span class=\"ico_google\"><a href=\"https://plus.google.com/share?url=https://www.hanbit.co.kr/store/books/look.php?p_code=B6694310162\" target=\"_blank\">구글+ 퍼가기</a></span> -->\n",
       "<span class=\"ico_twitter\"><a href=\"https://twitter.com/share?text=%ED%95%98%EB%A3%A8+%ED%95%9C+%EC%9E%A5+%EC%B4%88%EB%93%B1%EA%B3%BC%ED%95%99+365&amp;url=https://www.hanbit.co.kr/store/books/look.php?p_code=B6694310162\" target=\"_blank\">트위터 퍼가기</a></span>\n",
       "</div>\n",
       "</div>\n",
       "<ul class=\"info_list\">\n",
       "<li><strong>저자 : </strong><span>치바 가즈요시 </span></li>\n",
       "<li><strong>번역 : </strong><span>허영은 , 유우종 (감수) </span></li>\n",
       "<li><strong>출간 : </strong><span>2021-12-14</span></li>\n",
       "<li><strong>페이지 : </strong><span>416 쪽</span></li>\n",
       "<li><strong>ISBN : </strong><span>9791190846295</span></li>\n",
       "<li><strong>물류코드 :</strong><span>5329</span></li>\n",
       "</ul>\n",
       "<div class=\"tag_area\"><span>TAG : </span><a href=\"/search/search_list.html?ptype=B&amp;keyword=초등과학기본서\">초등과학기본서</a> ,<a href=\"/search/search_list.html?ptype=B&amp;keyword=초등교양\">초등교양</a> ,<a href=\"/search/search_list.html?ptype=B&amp;keyword=과학교육\">과학교육</a> ,<a href=\"/search/search_list.html?ptype=B&amp;keyword=교양과학\">교양과학</a> </div>\n",
       "<div class=\"step_area ico_step1\">\n",
       "<span><strong>초급</strong></span>\n",
       "<span> 초중급 </span>\n",
       "<span> 중급 </span>\n",
       "<span> 중고급 </span>\n",
       "<span> 고급 </span>\n",
       "</div>\n",
       "</div>"
      ]
     },
     "execution_count": 9,
     "metadata": {},
     "output_type": "execute_result"
    }
   ],
   "source": [
    "info = sub_soup.select_one('.store_product_info_box')\n",
    "info"
   ]
  },
  {
   "cell_type": "code",
   "execution_count": 13,
   "metadata": {},
   "outputs": [
    {
     "data": {
      "text/plain": [
       "'하루 한 장 초등과학 365'"
      ]
     },
     "execution_count": 13,
     "metadata": {},
     "output_type": "execute_result"
    }
   ],
   "source": [
    "# 제목 \n",
    "title = info.find('h3').get_text().strip()\n",
    "title"
   ]
  },
  {
   "cell_type": "code",
   "execution_count": 17,
   "metadata": {},
   "outputs": [
    {
     "data": {
      "text/plain": [
       "[<li><strong>저자 : </strong><span>치바 가즈요시 </span></li>,\n",
       " <li><strong>번역 : </strong><span>허영은 , 유우종 (감수) </span></li>,\n",
       " <li><strong>출간 : </strong><span>2021-12-14</span></li>,\n",
       " <li><strong>페이지 : </strong><span>416 쪽</span></li>,\n",
       " <li><strong>ISBN : </strong><span>9791190846295</span></li>,\n",
       " <li><strong>물류코드 :</strong><span>5329</span></li>]"
      ]
     },
     "execution_count": 17,
     "metadata": {},
     "output_type": "execute_result"
    }
   ],
   "source": [
    "info.find_all('li')"
   ]
  },
  {
   "cell_type": "code",
   "execution_count": 18,
   "metadata": {},
   "outputs": [
    {
     "ename": "SyntaxError",
     "evalue": "unexpected EOF while parsing (<ipython-input-18-b2e81e4377a5>, line 3)",
     "output_type": "error",
     "traceback": [
      "\u001b[1;36m  File \u001b[1;32m\"<ipython-input-18-b2e81e4377a5>\"\u001b[1;36m, line \u001b[1;32m3\u001b[0m\n\u001b[1;33m    # 숫자 아닌 거 전부 제외? replace? int\u001b[0m\n\u001b[1;37m                                  ^\u001b[0m\n\u001b[1;31mSyntaxError\u001b[0m\u001b[1;31m:\u001b[0m unexpected EOF while parsing\n"
     ]
    }
   ],
   "source": [
    "def convert_unit(s):\n",
    "    # : 기준으로 스플릿해서 [1]만 사용 \n",
    "    # 숫자 아닌 거 전부 제외? replace? int "
   ]
  },
  {
   "cell_type": "code",
   "execution_count": 15,
   "metadata": {},
   "outputs": [
    {
     "data": {
      "text/plain": [
       "'저자 : 치바 가즈요시'"
      ]
     },
     "execution_count": 15,
     "metadata": {},
     "output_type": "execute_result"
    }
   ],
   "source": [
    "# 저자 \n",
    "author = info.find('li').get_text().strip()\n",
    "author"
   ]
  },
  {
   "cell_type": "code",
   "execution_count": 12,
   "metadata": {},
   "outputs": [
    {
     "data": {
      "text/plain": [
       "'번역 : 허영은 , 유우종 (감수) '"
      ]
     },
     "execution_count": 12,
     "metadata": {},
     "output_type": "execute_result"
    }
   ],
   "source": [
    "# 역자( dict으로 만들어서 번역 키 값이 있으면~없으면~ )\n",
    "sub_list = sub_soup.select('.info_list > li')[1].get_text()\n",
    "# lux = dict(sub_soup.select('.info_list > li'))\n",
    "# lux\n",
    "sub_list"
   ]
  },
  {
   "cell_type": "code",
   "execution_count": 13,
   "metadata": {},
   "outputs": [
    {
     "data": {
      "text/plain": [
       "'허영은 , 유우종 (감수) '"
      ]
     },
     "execution_count": 13,
     "metadata": {},
     "output_type": "execute_result"
    }
   ],
   "source": [
    "# 역자\n",
    "if sub_list[:2] == '번역':\n",
    "    trans = sub_soup.select('.info_list > li')[1].get_text()[5:]\n",
    "else: \n",
    "    trans = print('.')\n",
    "trans\n"
   ]
  },
  {
   "cell_type": "code",
   "execution_count": 14,
   "metadata": {},
   "outputs": [
    {
     "data": {
      "text/plain": [
       "20211214"
      ]
     },
     "execution_count": 14,
     "metadata": {},
     "output_type": "execute_result"
    }
   ],
   "source": [
    "# 출간일 \n",
    "date = sub_lis[2].get_text().split(':')[1]\n",
    "date = int(date.replace('-',''))\n",
    "date"
   ]
  },
  {
   "cell_type": "code",
   "execution_count": 15,
   "metadata": {},
   "outputs": [
    {
     "data": {
      "text/plain": [
       "416"
      ]
     },
     "execution_count": 15,
     "metadata": {},
     "output_type": "execute_result"
    }
   ],
   "source": [
    "# 페이지 \n",
    "page = sub_lis[3].get_text().split(':')[1]\n",
    "page = int(page.replace('쪽',''))\n",
    "page"
   ]
  },
  {
   "cell_type": "code",
   "execution_count": 16,
   "metadata": {},
   "outputs": [
    {
     "data": {
      "text/plain": [
       "[<p><span class=\"pbl\">정가 : </span><span class=\"pbr\"><del>19,800원</del></span></p>,\n",
       " <p><span class=\"pbl\"><strong>판매가 : </strong></span><span class=\"pbr\"><strong>17,820</strong>원<span>(10% off)</span></span></p>,\n",
       " <p><span class=\"pbl\">마일리지 : </span><span class=\"pbr\">990점 (5%)</span></p>]"
      ]
     },
     "execution_count": 16,
     "metadata": {},
     "output_type": "execute_result"
    }
   ],
   "source": [
    "sub_soup.select_one('.payment_box.curr').find_all('p')"
   ]
  },
  {
   "cell_type": "code",
   "execution_count": 17,
   "metadata": {},
   "outputs": [
    {
     "data": {
      "text/plain": [
       "[<p><span class=\"pbl\">정가 : </span><span class=\"pbr\"><del>19,800원</del></span></p>,\n",
       " <p><span class=\"pbl\"><strong>판매가 : </strong></span><span class=\"pbr\"><strong>17,820</strong>원<span>(10% off)</span></span></p>,\n",
       " <p><span class=\"pbl\">마일리지 : </span><span class=\"pbr\">990점 (5%)</span></p>]"
      ]
     },
     "execution_count": 17,
     "metadata": {},
     "output_type": "execute_result"
    }
   ],
   "source": [
    "# 정가 \n",
    "sub_lis2 = sub_soup.select_one('.payment_box.curr').find_all('p')\n",
    "sub_lis2"
   ]
  },
  {
   "cell_type": "code",
   "execution_count": 18,
   "metadata": {},
   "outputs": [
    {
     "data": {
      "text/plain": [
       "' 19,800원'"
      ]
     },
     "execution_count": 18,
     "metadata": {},
     "output_type": "execute_result"
    }
   ],
   "source": [
    "# 정가\n",
    "ori_price = sub_lis2[0].get_text().split(':')[1]\n",
    "ori_price"
   ]
  },
  {
   "cell_type": "code",
   "execution_count": 19,
   "metadata": {},
   "outputs": [
    {
     "data": {
      "text/plain": [
       "'19800'"
      ]
     },
     "execution_count": 19,
     "metadata": {},
     "output_type": "execute_result"
    }
   ],
   "source": [
    "import re\n",
    "re.sub('[^0-9]','',ori_price)"
   ]
  },
  {
   "cell_type": "code",
   "execution_count": 20,
   "metadata": {},
   "outputs": [
    {
     "data": {
      "text/plain": [
       "17820"
      ]
     },
     "execution_count": 20,
     "metadata": {},
     "output_type": "execute_result"
    }
   ],
   "source": [
    "# 판가\n",
    "price = sub_lis2[1].get_text().split(':')[1]\n",
    "price = price.split('원')[0]\n",
    "price = int(price.replace(',',''))\n",
    "price"
   ]
  },
  {
   "cell_type": "code",
   "execution_count": 21,
   "metadata": {},
   "outputs": [
    {
     "data": {
      "text/plain": [
       "990"
      ]
     },
     "execution_count": 21,
     "metadata": {},
     "output_type": "execute_result"
    }
   ],
   "source": [
    "# 마일리지 \n",
    "mile = sub_lis2[2].get_text().split(':')[1]\n",
    "mile = int(mile.split('점')[0])\n",
    "mile\n"
   ]
  },
  {
   "cell_type": "markdown",
   "metadata": {},
   "source": [
    "### 페이지에 있는 전체 데이터 가져오기"
   ]
  },
  {
   "cell_type": "code",
   "execution_count": null,
   "metadata": {},
   "outputs": [],
   "source": []
  },
  {
   "cell_type": "markdown",
   "metadata": {},
   "source": [
    "- 1페이지"
   ]
  },
  {
   "cell_type": "code",
   "execution_count": 22,
   "metadata": {},
   "outputs": [
    {
     "data": {
      "text/html": [
       "<div>\n",
       "<style scoped>\n",
       "    .dataframe tbody tr th:only-of-type {\n",
       "        vertical-align: middle;\n",
       "    }\n",
       "\n",
       "    .dataframe tbody tr th {\n",
       "        vertical-align: top;\n",
       "    }\n",
       "\n",
       "    .dataframe thead th {\n",
       "        text-align: right;\n",
       "    }\n",
       "</style>\n",
       "<table border=\"1\" class=\"dataframe\">\n",
       "  <thead>\n",
       "    <tr style=\"text-align: right;\">\n",
       "      <th></th>\n",
       "      <th>제목</th>\n",
       "      <th>저자</th>\n",
       "      <th>역자</th>\n",
       "      <th>출간일</th>\n",
       "      <th>페이지</th>\n",
       "      <th>정가</th>\n",
       "      <th>판가</th>\n",
       "      <th>할인율</th>\n",
       "      <th>마일리지</th>\n",
       "      <th>적립율</th>\n",
       "    </tr>\n",
       "  </thead>\n",
       "  <tbody>\n",
       "    <tr>\n",
       "      <th>0</th>\n",
       "      <td>하루 한 장 초등과학 365</td>\n",
       "      <td>치바 가즈요시</td>\n",
       "      <td>허영은 , 유우종 (감수)</td>\n",
       "      <td>2021-12-14</td>\n",
       "      <td>416 쪽</td>\n",
       "      <td>19800</td>\n",
       "      <td>17820</td>\n",
       "      <td>10% off</td>\n",
       "      <td>990점 (5%)</td>\n",
       "      <td>5%</td>\n",
       "    </tr>\n",
       "    <tr>\n",
       "      <th>1</th>\n",
       "      <td>다시, 배우다</td>\n",
       "      <td>폴 김</td>\n",
       "      <td>2021-12-10</td>\n",
       "      <td>304 쪽</td>\n",
       "      <td>9791157845545</td>\n",
       "      <td>16000</td>\n",
       "      <td>14400</td>\n",
       "      <td>10% off</td>\n",
       "      <td>800점 (5%)</td>\n",
       "      <td>5%</td>\n",
       "    </tr>\n",
       "    <tr>\n",
       "      <th>2</th>\n",
       "      <td>당당한 디자인 결정을 위한 9가지 방법</td>\n",
       "      <td>톰 그리버</td>\n",
       "      <td>김민성 , 곽서희</td>\n",
       "      <td>2021-12-10</td>\n",
       "      <td>376 쪽</td>\n",
       "      <td>22000</td>\n",
       "      <td>19800</td>\n",
       "      <td>10% off</td>\n",
       "      <td>1,100점 (5%)</td>\n",
       "      <td>5%</td>\n",
       "    </tr>\n",
       "    <tr>\n",
       "      <th>3</th>\n",
       "      <td>365 부모 말하기 연습 일력(스프링북)</td>\n",
       "      <td>박재연 , 공인영</td>\n",
       "      <td>2021-12-01</td>\n",
       "      <td>384 쪽</td>\n",
       "      <td>9791190846301</td>\n",
       "      <td>18000</td>\n",
       "      <td>16200</td>\n",
       "      <td>10% off</td>\n",
       "      <td>900점 (5%)</td>\n",
       "      <td>5%</td>\n",
       "    </tr>\n",
       "    <tr>\n",
       "      <th>4</th>\n",
       "      <td>공학도를 위한 수치해석(8판)</td>\n",
       "      <td>Steven C.Chapra , Raymond P. Canale</td>\n",
       "      <td>나양 , 이승배 , 임윤철</td>\n",
       "      <td>2021-11-30</td>\n",
       "      <td>600 쪽</td>\n",
       "      <td>36000</td>\n",
       "      <td>36000</td>\n",
       "      <td>0% off</td>\n",
       "      <td>1,080점 (3%)</td>\n",
       "      <td>3%</td>\n",
       "    </tr>\n",
       "  </tbody>\n",
       "</table>\n",
       "</div>"
      ],
      "text/plain": [
       "                       제목                                   저자  \\\n",
       "0         하루 한 장 초등과학 365                              치바 가즈요시   \n",
       "1                 다시, 배우다                                  폴 김   \n",
       "2   당당한 디자인 결정을 위한 9가지 방법                                톰 그리버   \n",
       "3  365 부모 말하기 연습 일력(스프링북)                            박재연 , 공인영   \n",
       "4        공학도를 위한 수치해석(8판)  Steven C.Chapra , Raymond P. Canale   \n",
       "\n",
       "                역자          출간일             페이지     정가     판가      할인율  \\\n",
       "0  허영은 , 유우종 (감수)    2021-12-14           416 쪽  19800  17820  10% off   \n",
       "1       2021-12-10        304 쪽   9791157845545  16000  14400  10% off   \n",
       "2       김민성 , 곽서희    2021-12-10           376 쪽  22000  19800  10% off   \n",
       "3       2021-12-01        384 쪽   9791190846301  18000  16200  10% off   \n",
       "4  나양 , 이승배 , 임윤철    2021-11-30           600 쪽  36000  36000   0% off   \n",
       "\n",
       "           마일리지 적립율  \n",
       "0     990점 (5%)  5%  \n",
       "1     800점 (5%)  5%  \n",
       "2   1,100점 (5%)  5%  \n",
       "3     900점 (5%)  5%  \n",
       "4   1,080점 (3%)  3%  "
      ]
     },
     "execution_count": 22,
     "metadata": {},
     "output_type": "execute_result"
    }
   ],
   "source": [
    "lines = []\n",
    "for li in lis : \n",
    "    title = li.select('.info > p')[0].get_text().strip()\n",
    "    author = li.select('.info > p')[1].get_text().strip()\n",
    "    href = li.find('a')['href']     # href 지정!! \n",
    "\n",
    "    sub_url = site + href \n",
    "    sub_req = requests.get(sub_url)\n",
    "    sub_html = sub_req.text\n",
    "    sub_soup = BeautifulSoup(sub_html, 'html.parser')\n",
    "    sub_lis = sub_soup.select('.info_list > li')\n",
    "    sub_lis2 = sub_soup.select_one('.payment_box.curr').find_all('p')\n",
    "\n",
    "\n",
    "    if sub_list[:2] == '번역':\n",
    "        trans = sub_soup.select('.info_list > li')[1].get_text()[5:]\n",
    "        date = sub_lis[2].get_text().split(':')[1]\n",
    "        # date = int(date.replace('-',''))\n",
    "        page = sub_lis[3].get_text().split(':')[1]\n",
    "        # page = int(page.replace('쪽',''))\n",
    "    else: \n",
    "        trans = print('.')\n",
    "        date = sub_lis[1].get_text().split(':')[1]\n",
    "        # date = int(date.replace('-',''))\n",
    "        page = sub_lis[2].get_text().split(':')[1]\n",
    "        # page = int(page.replace('쪽',''))\n",
    "\n",
    "\n",
    "    \n",
    "\n",
    "    ori_price = sub_lis2[0].get_text().split(':')[1]\n",
    "    ori_price = re.sub('[^0-9]','',ori_price)\n",
    "\n",
    "    price = sub_lis2[1].get_text().split(':')[1]\n",
    "    price = price.split('원')[0]\n",
    "    price = int(price.replace(',',''))\n",
    "\n",
    "    off = sub_lis2[1].get_text().split(':')[1]\n",
    "    off = off.split('원')[1][1:-1]\n",
    "\n",
    "    mile = sub_lis2[2].get_text().split(':')[1]\n",
    "    # mile = int(mile.split('점')[0])\n",
    "    \n",
    "    pct = sub_lis2[2].get_text().split(':')[1]\n",
    "    pct = pct.split('점')[1][2:-1]\n",
    "\n",
    "\n",
    "\n",
    "\n",
    "    lines.append([title, author, trans, date, page, ori_price, price, off, mile, pct])\n",
    "    \n",
    "df = pd.DataFrame(lines, columns = ['제목', '저자', '역자', '출간일', '페이지', '정가', '판가','할인율','마일리지', '적립율'])\n",
    "df.head()\n",
    "\n",
    "   \n",
    "    \n",
    "    \n",
    "    \n"
   ]
  },
  {
   "cell_type": "code",
   "execution_count": 23,
   "metadata": {},
   "outputs": [],
   "source": [
    "# from tqdm.notebook import tqdm \n",
    "# 10페이지 전부 가져오는 등 시간이 오래걸리는 작업할 때 위에 삽입하면 진행율 보임 "
   ]
  },
  {
   "cell_type": "code",
   "execution_count": 24,
   "metadata": {},
   "outputs": [
    {
     "ename": "NameError",
     "evalue": "name 'book_dict' is not defined",
     "output_type": "error",
     "traceback": [
      "\u001b[1;31m---------------------------------------------------------------------------\u001b[0m",
      "\u001b[1;31mNameError\u001b[0m                                 Traceback (most recent call last)",
      "\u001b[1;32m<ipython-input-24-79d7f54fb329>\u001b[0m in \u001b[0;36m<module>\u001b[1;34m\u001b[0m\n\u001b[0;32m      1\u001b[0m \u001b[1;31m# 딕셔너리 만들어 준 뒤\u001b[0m\u001b[1;33m\u001b[0m\u001b[1;33m\u001b[0m\u001b[1;33m\u001b[0m\u001b[0m\n\u001b[1;32m----> 2\u001b[1;33m \u001b[0mauthor\u001b[0m \u001b[1;33m=\u001b[0m \u001b[0mbook_dict\u001b[0m\u001b[1;33m[\u001b[0m\u001b[1;34m'저자'\u001b[0m\u001b[1;33m]\u001b[0m\u001b[1;33m\u001b[0m\u001b[1;33m\u001b[0m\u001b[0m\n\u001b[0m\u001b[0;32m      3\u001b[0m \u001b[0mtrans\u001b[0m \u001b[1;33m=\u001b[0m \u001b[0mbook_dict\u001b[0m\u001b[1;33m[\u001b[0m\u001b[1;34m'번역'\u001b[0m\u001b[1;33m]\u001b[0m\u001b[1;33m\u001b[0m\u001b[1;33m\u001b[0m\u001b[0m\n\u001b[0;32m      4\u001b[0m \u001b[0mpage\u001b[0m \u001b[1;33m=\u001b[0m \u001b[0mbook_dict\u001b[0m\u001b[1;33m[\u001b[0m\u001b[1;34m'페이지'\u001b[0m\u001b[1;33m]\u001b[0m\u001b[1;33m.\u001b[0m\u001b[0msplit\u001b[0m\u001b[1;33m(\u001b[0m\u001b[1;33m)\u001b[0m\u001b[1;33m[\u001b[0m\u001b[1;36m0\u001b[0m\u001b[1;33m]\u001b[0m\u001b[1;33m\u001b[0m\u001b[1;33m\u001b[0m\u001b[0m\n",
      "\u001b[1;31mNameError\u001b[0m: name 'book_dict' is not defined"
     ]
    }
   ],
   "source": [
    "# 딕셔너리 만들어 준 뒤 \n",
    "author = book_dict['저자']\n",
    "trans = book_dict['번역']\n",
    "page = book_dict['페이지'].split()[0]\n"
   ]
  },
  {
   "cell_type": "markdown",
   "metadata": {},
   "source": [
    "- 번역/ 번역이 없거나 대신 구판정보가 있는 데이터 "
   ]
  },
  {
   "cell_type": "code",
   "execution_count": null,
   "metadata": {},
   "outputs": [
    {
     "ename": "NameError",
     "evalue": "name 'book_dict' is not defined",
     "output_type": "error",
     "traceback": [
      "\u001b[1;31m---------------------------------------------------------------------------\u001b[0m",
      "\u001b[1;31mNameError\u001b[0m                                 Traceback (most recent call last)",
      "\u001b[1;32m<ipython-input-27-e4b615fa62ac>\u001b[0m in \u001b[0;36m<module>\u001b[1;34m\u001b[0m\n\u001b[1;32m----> 1\u001b[1;33m \u001b[1;32mif\u001b[0m \u001b[1;34m'번역'\u001b[0m \u001b[1;32min\u001b[0m \u001b[0mbook_dict\u001b[0m\u001b[1;33m.\u001b[0m\u001b[0mkeys\u001b[0m\u001b[1;33m(\u001b[0m\u001b[1;33m)\u001b[0m\u001b[1;33m:\u001b[0m\u001b[1;33m\u001b[0m\u001b[1;33m\u001b[0m\u001b[0m\n\u001b[0m\u001b[0;32m      2\u001b[0m     \u001b[0mtrans\u001b[0m \u001b[1;33m=\u001b[0m \u001b[0mbook_dict\u001b[0m\u001b[1;33m[\u001b[0m\u001b[1;34m'번역'\u001b[0m\u001b[1;33m]\u001b[0m\u001b[1;33m\u001b[0m\u001b[1;33m\u001b[0m\u001b[0m\n\u001b[0;32m      3\u001b[0m \u001b[1;32melse\u001b[0m\u001b[1;33m:\u001b[0m\u001b[1;33m\u001b[0m\u001b[1;33m\u001b[0m\u001b[0m\n\u001b[0;32m      4\u001b[0m     \u001b[0mtrans\u001b[0m \u001b[1;33m=\u001b[0m \u001b[1;34m'-'\u001b[0m\u001b[1;33m\u001b[0m\u001b[1;33m\u001b[0m\u001b[0m\n",
      "\u001b[1;31mNameError\u001b[0m: name 'book_dict' is not defined"
     ]
    }
   ],
   "source": [
    "if '번역' in book_dict.keys():\n",
    "    trans = book_dict['번역']\n",
    "else: \n",
    "    trans = '-'"
   ]
  },
  {
   "cell_type": "code",
   "execution_count": null,
   "metadata": {},
   "outputs": [],
   "source": []
  }
 ],
 "metadata": {
  "interpreter": {
   "hash": "d990e0f5c79ab62bfe20220d5fc8769a25e3da57dce2813cc13c29871ddc1bfb"
  },
  "kernelspec": {
   "display_name": "Python 3.8.8 64-bit ('base': conda)",
   "language": "python",
   "name": "python3"
  },
  "language_info": {
   "codemirror_mode": {
    "name": "ipython",
    "version": 3
   },
   "file_extension": ".py",
   "mimetype": "text/x-python",
   "name": "python",
   "nbconvert_exporter": "python",
   "pygments_lexer": "ipython3",
   "version": "3.8.8"
  },
  "orig_nbformat": 4
 },
 "nbformat": 4,
 "nbformat_minor": 2
}
