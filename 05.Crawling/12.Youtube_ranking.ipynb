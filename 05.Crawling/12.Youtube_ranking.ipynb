{
 "cells": [
  {
   "cell_type": "markdown",
   "metadata": {},
   "source": [
    "# Youtube Ranking"
   ]
  },
  {
   "cell_type": "markdown",
   "metadata": {},
   "source": [
    "- 유투브 랭킹 - 전체"
   ]
  },
  {
   "cell_type": "code",
   "execution_count": 2,
   "metadata": {},
   "outputs": [],
   "source": [
    "from selenium import webdriver\n",
    "from bs4 import BeautifulSoup\n",
    "import time\n",
    "import pandas as pd "
   ]
  },
  {
   "cell_type": "code",
   "execution_count": 3,
   "metadata": {},
   "outputs": [],
   "source": [
    "url = 'https://youtube-rank.com/board/bbs/board.php?bo_table=youtube'\n",
    "driver = webdriver.Chrome('chromedriver.exe')\n",
    "driver.get(url)\n",
    "time.sleep(2)"
   ]
  },
  {
   "cell_type": "code",
   "execution_count": 4,
   "metadata": {},
   "outputs": [
    {
     "data": {
      "text/plain": [
       "100"
      ]
     },
     "execution_count": 4,
     "metadata": {},
     "output_type": "execute_result"
    }
   ],
   "source": [
    "soup = BeautifulSoup(driver.page_source, 'html.parser')\n",
    "channel_list = soup.select('.aos-init')\n",
    "len(channel_list)"
   ]
  },
  {
   "cell_type": "code",
   "execution_count": 5,
   "metadata": {},
   "outputs": [],
   "source": [
    "channel = channel_list[0]\n",
    "# 1위 블핑"
   ]
  },
  {
   "cell_type": "code",
   "execution_count": 6,
   "metadata": {},
   "outputs": [
    {
     "data": {
      "text/plain": [
       "1"
      ]
     },
     "execution_count": 6,
     "metadata": {},
     "output_type": "execute_result"
    }
   ],
   "source": [
    "rank = channel.select_one('.rank').get_text().strip()\n",
    "rank = int(rank)\n",
    "rank"
   ]
  },
  {
   "cell_type": "code",
   "execution_count": 7,
   "metadata": {},
   "outputs": [
    {
     "data": {
      "text/plain": [
       "'음악/댄스/가수'"
      ]
     },
     "execution_count": 7,
     "metadata": {},
     "output_type": "execute_result"
    }
   ],
   "source": [
    "category = channel.select_one('.category').get_text().strip()\n",
    "category[1:-1]\n",
    "# [는 인덱스 0취급이면서 왜 ]는 -1에 안 걸리지? "
   ]
  },
  {
   "cell_type": "code",
   "execution_count": 8,
   "metadata": {},
   "outputs": [
    {
     "data": {
      "text/plain": [
       "'BLACKPINK'"
      ]
     },
     "execution_count": 8,
     "metadata": {},
     "output_type": "execute_result"
    }
   ],
   "source": [
    "name = channel.select_one('.subject a').get_text().strip()      # subject밑의 a태그 찾아주기\n",
    "name"
   ]
  },
  {
   "cell_type": "code",
   "execution_count": 9,
   "metadata": {},
   "outputs": [
    {
     "data": {
      "text/plain": [
       "('7020만', '214억5709만', '395개')"
      ]
     },
     "execution_count": 9,
     "metadata": {},
     "output_type": "execute_result"
    }
   ],
   "source": [
    "subscriber = channel.select_one('.subscriber_cnt').get_text().strip()\n",
    "view = channel.select_one('.view_cnt').get_text().strip()\n",
    "video = channel.select_one('.video_cnt').get_text().strip()\n",
    "\n",
    "\n",
    "subscriber, view, video "
   ]
  },
  {
   "cell_type": "markdown",
   "metadata": {},
   "source": [
    "- 반복문으로 페이지 내 데이터 수집하기"
   ]
  },
  {
   "cell_type": "code",
   "execution_count": 10,
   "metadata": {},
   "outputs": [
    {
     "data": {
      "text/html": [
       "<div>\n",
       "<style scoped>\n",
       "    .dataframe tbody tr th:only-of-type {\n",
       "        vertical-align: middle;\n",
       "    }\n",
       "\n",
       "    .dataframe tbody tr th {\n",
       "        vertical-align: top;\n",
       "    }\n",
       "\n",
       "    .dataframe thead th {\n",
       "        text-align: right;\n",
       "    }\n",
       "</style>\n",
       "<table border=\"1\" class=\"dataframe\">\n",
       "  <thead>\n",
       "    <tr style=\"text-align: right;\">\n",
       "      <th></th>\n",
       "      <th>순위</th>\n",
       "      <th>장르</th>\n",
       "      <th>채널명</th>\n",
       "      <th>구독자수</th>\n",
       "      <th>조회수</th>\n",
       "      <th>비디오수</th>\n",
       "    </tr>\n",
       "  </thead>\n",
       "  <tbody>\n",
       "    <tr>\n",
       "      <th>0</th>\n",
       "      <td>1</td>\n",
       "      <td>음악/댄스/가수</td>\n",
       "      <td>BLACKPINK</td>\n",
       "      <td>7020만</td>\n",
       "      <td>214억5709만</td>\n",
       "      <td>395개</td>\n",
       "    </tr>\n",
       "    <tr>\n",
       "      <th>1</th>\n",
       "      <td>2</td>\n",
       "      <td>음악/댄스/가수</td>\n",
       "      <td>HYBE LABELS</td>\n",
       "      <td>6300만</td>\n",
       "      <td>204억9684만</td>\n",
       "      <td>725개</td>\n",
       "    </tr>\n",
       "    <tr>\n",
       "      <th>2</th>\n",
       "      <td>3</td>\n",
       "      <td>음악/댄스/가수</td>\n",
       "      <td>BANGTANTV</td>\n",
       "      <td>6150만</td>\n",
       "      <td>140억7794만</td>\n",
       "      <td>1,646개</td>\n",
       "    </tr>\n",
       "    <tr>\n",
       "      <th>3</th>\n",
       "      <td>4</td>\n",
       "      <td>음악/댄스/가수</td>\n",
       "      <td>SMTOWN</td>\n",
       "      <td>2930만</td>\n",
       "      <td>230억1641만</td>\n",
       "      <td>3,779개</td>\n",
       "    </tr>\n",
       "    <tr>\n",
       "      <th>4</th>\n",
       "      <td>5</td>\n",
       "      <td>키즈/어린이</td>\n",
       "      <td>Boram Tube Vlog [보람튜브 브이로그]</td>\n",
       "      <td>2650만</td>\n",
       "      <td>110억5288만</td>\n",
       "      <td>223개</td>\n",
       "    </tr>\n",
       "    <tr>\n",
       "      <th>5</th>\n",
       "      <td>6</td>\n",
       "      <td>음악/댄스/가수</td>\n",
       "      <td>1MILLION Dance Studio</td>\n",
       "      <td>2460만</td>\n",
       "      <td>69억3037만</td>\n",
       "      <td>3,396개</td>\n",
       "    </tr>\n",
       "    <tr>\n",
       "      <th>6</th>\n",
       "      <td>7</td>\n",
       "      <td>음악/댄스/가수</td>\n",
       "      <td>1theK (원더케이)</td>\n",
       "      <td>2370만</td>\n",
       "      <td>213억5884만</td>\n",
       "      <td>15,675개</td>\n",
       "    </tr>\n",
       "    <tr>\n",
       "      <th>7</th>\n",
       "      <td>8</td>\n",
       "      <td>음악/댄스/가수</td>\n",
       "      <td>JYP Entertainment</td>\n",
       "      <td>2300만</td>\n",
       "      <td>150억0482만</td>\n",
       "      <td>1,429개</td>\n",
       "    </tr>\n",
       "    <tr>\n",
       "      <th>8</th>\n",
       "      <td>9</td>\n",
       "      <td>음악/댄스/가수</td>\n",
       "      <td>Mnet K-POP</td>\n",
       "      <td>1900만</td>\n",
       "      <td>139억7423만</td>\n",
       "      <td>26,841개</td>\n",
       "    </tr>\n",
       "    <tr>\n",
       "      <th>9</th>\n",
       "      <td>10</td>\n",
       "      <td>음악/댄스/가수</td>\n",
       "      <td>JFlaMusic</td>\n",
       "      <td>1740만</td>\n",
       "      <td>35억0198만</td>\n",
       "      <td>281개</td>\n",
       "    </tr>\n",
       "  </tbody>\n",
       "</table>\n",
       "</div>"
      ],
      "text/plain": [
       "   순위        장르                          채널명   구독자수        조회수     비디오수\n",
       "0   1  음악/댄스/가수                    BLACKPINK  7020만  214억5709만     395개\n",
       "1   2  음악/댄스/가수                  HYBE LABELS  6300만  204억9684만     725개\n",
       "2   3  음악/댄스/가수                    BANGTANTV  6150만  140억7794만   1,646개\n",
       "3   4  음악/댄스/가수                       SMTOWN  2930만  230억1641만   3,779개\n",
       "4   5    키즈/어린이  Boram Tube Vlog [보람튜브 브이로그]  2650만  110억5288만     223개\n",
       "5   6  음악/댄스/가수        1MILLION Dance Studio  2460만   69억3037만   3,396개\n",
       "6   7  음악/댄스/가수                 1theK (원더케이)  2370만  213억5884만  15,675개\n",
       "7   8  음악/댄스/가수            JYP Entertainment  2300만  150억0482만   1,429개\n",
       "8   9  음악/댄스/가수                   Mnet K-POP  1900만  139억7423만  26,841개\n",
       "9  10  음악/댄스/가수                    JFlaMusic  1740만   35억0198만     281개"
      ]
     },
     "execution_count": 10,
     "metadata": {},
     "output_type": "execute_result"
    }
   ],
   "source": [
    "lines = []\n",
    "for channel in channel_list:\n",
    "    rank = int(channel.select_one('.rank').get_text().strip())\n",
    "    category = channel.select_one('.category').get_text().strip()\n",
    "    name = channel.select_one('.subject a').get_text().strip()\n",
    "    subscriber = channel.select_one('.subscriber_cnt').get_text().strip()\n",
    "    view = channel.select_one('.view_cnt').get_text().strip()\n",
    "    video = channel.select_one('.video_cnt').get_text().strip()\n",
    "\n",
    "    lines.append([rank, category[1:-1], name, subscriber, view, video])\n",
    "\n",
    "df = pd.DataFrame(lines, columns = ['순위','장르','채널명','구독자수','조회수','비디오수'])\n",
    "df.head(10)\n",
    "    "
   ]
  },
  {
   "cell_type": "markdown",
   "metadata": {},
   "source": [
    "- 숫자로 바꿔주는 함수 ('만' : 0000, 개, 억 없애기 등) "
   ]
  },
  {
   "cell_type": "code",
   "execution_count": 11,
   "metadata": {},
   "outputs": [],
   "source": [
    "def convert_unit(s):\n",
    "    s = s.replace('억','').replace('개','').replace(',','').replace('만', '0000')\n",
    "    return f'{int(s):,d}'        # 데시말? 천단위 구분기호 \n",
    "    "
   ]
  },
  {
   "cell_type": "code",
   "execution_count": 12,
   "metadata": {},
   "outputs": [
    {
     "data": {
      "text/plain": [
       "'12,352,000,000'"
      ]
     },
     "execution_count": 12,
     "metadata": {},
     "output_type": "execute_result"
    }
   ],
   "source": [
    "convert_unit('123억5200만')"
   ]
  },
  {
   "cell_type": "code",
   "execution_count": 13,
   "metadata": {},
   "outputs": [
    {
     "data": {
      "text/html": [
       "<div>\n",
       "<style scoped>\n",
       "    .dataframe tbody tr th:only-of-type {\n",
       "        vertical-align: middle;\n",
       "    }\n",
       "\n",
       "    .dataframe tbody tr th {\n",
       "        vertical-align: top;\n",
       "    }\n",
       "\n",
       "    .dataframe thead th {\n",
       "        text-align: right;\n",
       "    }\n",
       "</style>\n",
       "<table border=\"1\" class=\"dataframe\">\n",
       "  <thead>\n",
       "    <tr style=\"text-align: right;\">\n",
       "      <th></th>\n",
       "      <th>순위</th>\n",
       "      <th>장르</th>\n",
       "      <th>채널명</th>\n",
       "      <th>구독자수</th>\n",
       "      <th>조회수</th>\n",
       "      <th>비디오수</th>\n",
       "    </tr>\n",
       "  </thead>\n",
       "  <tbody>\n",
       "    <tr>\n",
       "      <th>0</th>\n",
       "      <td>1</td>\n",
       "      <td>음악/댄스/가수</td>\n",
       "      <td>BLACKPINK</td>\n",
       "      <td>70,200,000</td>\n",
       "      <td>21,457,090,000</td>\n",
       "      <td>395</td>\n",
       "    </tr>\n",
       "    <tr>\n",
       "      <th>1</th>\n",
       "      <td>2</td>\n",
       "      <td>음악/댄스/가수</td>\n",
       "      <td>HYBE LABELS</td>\n",
       "      <td>63,000,000</td>\n",
       "      <td>20,496,840,000</td>\n",
       "      <td>725</td>\n",
       "    </tr>\n",
       "    <tr>\n",
       "      <th>2</th>\n",
       "      <td>3</td>\n",
       "      <td>음악/댄스/가수</td>\n",
       "      <td>BANGTANTV</td>\n",
       "      <td>61,500,000</td>\n",
       "      <td>14,077,940,000</td>\n",
       "      <td>1,646</td>\n",
       "    </tr>\n",
       "    <tr>\n",
       "      <th>3</th>\n",
       "      <td>4</td>\n",
       "      <td>음악/댄스/가수</td>\n",
       "      <td>SMTOWN</td>\n",
       "      <td>29,300,000</td>\n",
       "      <td>23,016,410,000</td>\n",
       "      <td>3,779</td>\n",
       "    </tr>\n",
       "    <tr>\n",
       "      <th>4</th>\n",
       "      <td>5</td>\n",
       "      <td>키즈/어린이</td>\n",
       "      <td>Boram Tube Vlog [보람튜브 브이로그]</td>\n",
       "      <td>26,500,000</td>\n",
       "      <td>11,052,880,000</td>\n",
       "      <td>223</td>\n",
       "    </tr>\n",
       "  </tbody>\n",
       "</table>\n",
       "</div>"
      ],
      "text/plain": [
       "   순위        장르                          채널명        구독자수             조회수  \\\n",
       "0   1  음악/댄스/가수                    BLACKPINK  70,200,000  21,457,090,000   \n",
       "1   2  음악/댄스/가수                  HYBE LABELS  63,000,000  20,496,840,000   \n",
       "2   3  음악/댄스/가수                    BANGTANTV  61,500,000  14,077,940,000   \n",
       "3   4  음악/댄스/가수                       SMTOWN  29,300,000  23,016,410,000   \n",
       "4   5    키즈/어린이  Boram Tube Vlog [보람튜브 브이로그]  26,500,000  11,052,880,000   \n",
       "\n",
       "    비디오수  \n",
       "0    395  \n",
       "1    725  \n",
       "2  1,646  \n",
       "3  3,779  \n",
       "4    223  "
      ]
     },
     "execution_count": 13,
     "metadata": {},
     "output_type": "execute_result"
    }
   ],
   "source": [
    "df['구독자수'] = df.구독자수.apply(convert_unit)\n",
    "df['조회수'] = df.조회수.apply(convert_unit)\n",
    "df['비디오수'] = df.비디오수.apply(convert_unit)\n",
    "df.head()"
   ]
  },
  {
   "cell_type": "markdown",
   "metadata": {},
   "source": [
    "- 두번째 페이지"
   ]
  },
  {
   "cell_type": "code",
   "execution_count": 14,
   "metadata": {},
   "outputs": [],
   "source": [
    "# Xpath로찾아가기 - //*[@id=\"list-skin\"]/nav/span/a[1] : F12에서 2페이지 버튼 우클릭 - copy xpath \n",
    "driver.find_element_by_xpath('//*[@id=\"list-skin\"]/nav/span/a[1]').click()\n",
    "time.sleep(2)"
   ]
  },
  {
   "cell_type": "code",
   "execution_count": 15,
   "metadata": {},
   "outputs": [
    {
     "data": {
      "text/plain": [
       "100"
      ]
     },
     "execution_count": 15,
     "metadata": {},
     "output_type": "execute_result"
    }
   ],
   "source": [
    "soup= BeautifulSoup(driver.page_source, 'html.parser')\n",
    "channel_list = soup.select('.aos-init')\n",
    "len(channel_list)\n"
   ]
  },
  {
   "cell_type": "code",
   "execution_count": 16,
   "metadata": {},
   "outputs": [],
   "source": [
    "lines = []\n",
    "for channel in channel_list:\n",
    "    rank = int(channel.select_one('.rank').get_text().strip())\n",
    "    category = channel.select_one('.category').get_text().strip()\n",
    "    name = channel.select_one('.subject a').get_text().strip()\n",
    "    subscriber = channel.select_one('.subscriber_cnt').get_text().strip()\n",
    "    view = channel.select_one('.view_cnt').get_text().strip()\n",
    "    video = channel.select_one('.video_cnt').get_text().strip()\n",
    "\n",
    "    lines.append([rank, category[1:-1], name, convert_unit(subscriber), convert_unit(view), convert_unit(video)])"
   ]
  },
  {
   "cell_type": "code",
   "execution_count": 17,
   "metadata": {},
   "outputs": [
    {
     "data": {
      "text/html": [
       "<div>\n",
       "<style scoped>\n",
       "    .dataframe tbody tr th:only-of-type {\n",
       "        vertical-align: middle;\n",
       "    }\n",
       "\n",
       "    .dataframe tbody tr th {\n",
       "        vertical-align: top;\n",
       "    }\n",
       "\n",
       "    .dataframe thead th {\n",
       "        text-align: right;\n",
       "    }\n",
       "</style>\n",
       "<table border=\"1\" class=\"dataframe\">\n",
       "  <thead>\n",
       "    <tr style=\"text-align: right;\">\n",
       "      <th></th>\n",
       "      <th>순위</th>\n",
       "      <th>장르</th>\n",
       "      <th>채널명</th>\n",
       "      <th>구독자수</th>\n",
       "      <th>조회수</th>\n",
       "      <th>비디오수</th>\n",
       "    </tr>\n",
       "  </thead>\n",
       "  <tbody>\n",
       "    <tr>\n",
       "      <th>0</th>\n",
       "      <td>1</td>\n",
       "      <td>음악/댄스/가수</td>\n",
       "      <td>BLACKPINK</td>\n",
       "      <td>70,200,000</td>\n",
       "      <td>21,457,090,000</td>\n",
       "      <td>395</td>\n",
       "    </tr>\n",
       "    <tr>\n",
       "      <th>1</th>\n",
       "      <td>2</td>\n",
       "      <td>음악/댄스/가수</td>\n",
       "      <td>HYBE LABELS</td>\n",
       "      <td>63,000,000</td>\n",
       "      <td>20,496,840,000</td>\n",
       "      <td>725</td>\n",
       "    </tr>\n",
       "    <tr>\n",
       "      <th>2</th>\n",
       "      <td>3</td>\n",
       "      <td>음악/댄스/가수</td>\n",
       "      <td>BANGTANTV</td>\n",
       "      <td>61,500,000</td>\n",
       "      <td>14,077,940,000</td>\n",
       "      <td>1,646</td>\n",
       "    </tr>\n",
       "    <tr>\n",
       "      <th>3</th>\n",
       "      <td>4</td>\n",
       "      <td>음악/댄스/가수</td>\n",
       "      <td>SMTOWN</td>\n",
       "      <td>29,300,000</td>\n",
       "      <td>23,016,410,000</td>\n",
       "      <td>3,779</td>\n",
       "    </tr>\n",
       "    <tr>\n",
       "      <th>4</th>\n",
       "      <td>5</td>\n",
       "      <td>키즈/어린이</td>\n",
       "      <td>Boram Tube Vlog [보람튜브 브이로그]</td>\n",
       "      <td>26,500,000</td>\n",
       "      <td>11,052,880,000</td>\n",
       "      <td>223</td>\n",
       "    </tr>\n",
       "    <tr>\n",
       "      <th>5</th>\n",
       "      <td>6</td>\n",
       "      <td>음악/댄스/가수</td>\n",
       "      <td>1MILLION Dance Studio</td>\n",
       "      <td>24,600,000</td>\n",
       "      <td>6,930,370,000</td>\n",
       "      <td>3,396</td>\n",
       "    </tr>\n",
       "    <tr>\n",
       "      <th>6</th>\n",
       "      <td>7</td>\n",
       "      <td>음악/댄스/가수</td>\n",
       "      <td>1theK (원더케이)</td>\n",
       "      <td>23,700,000</td>\n",
       "      <td>21,358,840,000</td>\n",
       "      <td>15,675</td>\n",
       "    </tr>\n",
       "    <tr>\n",
       "      <th>7</th>\n",
       "      <td>8</td>\n",
       "      <td>음악/댄스/가수</td>\n",
       "      <td>JYP Entertainment</td>\n",
       "      <td>23,000,000</td>\n",
       "      <td>15,004,820,000</td>\n",
       "      <td>1,429</td>\n",
       "    </tr>\n",
       "    <tr>\n",
       "      <th>8</th>\n",
       "      <td>9</td>\n",
       "      <td>음악/댄스/가수</td>\n",
       "      <td>Mnet K-POP</td>\n",
       "      <td>19,000,000</td>\n",
       "      <td>13,974,230,000</td>\n",
       "      <td>26,841</td>\n",
       "    </tr>\n",
       "    <tr>\n",
       "      <th>9</th>\n",
       "      <td>10</td>\n",
       "      <td>음악/댄스/가수</td>\n",
       "      <td>JFlaMusic</td>\n",
       "      <td>17,400,000</td>\n",
       "      <td>3,501,980,000</td>\n",
       "      <td>281</td>\n",
       "    </tr>\n",
       "  </tbody>\n",
       "</table>\n",
       "</div>"
      ],
      "text/plain": [
       "   순위        장르                          채널명        구독자수             조회수  \\\n",
       "0   1  음악/댄스/가수                    BLACKPINK  70,200,000  21,457,090,000   \n",
       "1   2  음악/댄스/가수                  HYBE LABELS  63,000,000  20,496,840,000   \n",
       "2   3  음악/댄스/가수                    BANGTANTV  61,500,000  14,077,940,000   \n",
       "3   4  음악/댄스/가수                       SMTOWN  29,300,000  23,016,410,000   \n",
       "4   5    키즈/어린이  Boram Tube Vlog [보람튜브 브이로그]  26,500,000  11,052,880,000   \n",
       "5   6  음악/댄스/가수        1MILLION Dance Studio  24,600,000   6,930,370,000   \n",
       "6   7  음악/댄스/가수                 1theK (원더케이)  23,700,000  21,358,840,000   \n",
       "7   8  음악/댄스/가수            JYP Entertainment  23,000,000  15,004,820,000   \n",
       "8   9  음악/댄스/가수                   Mnet K-POP  19,000,000  13,974,230,000   \n",
       "9  10  음악/댄스/가수                    JFlaMusic  17,400,000   3,501,980,000   \n",
       "\n",
       "     비디오수  \n",
       "0     395  \n",
       "1     725  \n",
       "2   1,646  \n",
       "3   3,779  \n",
       "4     223  \n",
       "5   3,396  \n",
       "6  15,675  \n",
       "7   1,429  \n",
       "8  26,841  \n",
       "9     281  "
      ]
     },
     "execution_count": 17,
     "metadata": {},
     "output_type": "execute_result"
    }
   ],
   "source": [
    "df = pd.DataFrame(lines, columns = ['순위','장르','채널명','구독자수','조회수','비디오수'])\n",
    "df.head(10)"
   ]
  },
  {
   "cell_type": "markdown",
   "metadata": {},
   "source": [
    "- page 1 ~ 10까지 크롤링하기"
   ]
  },
  {
   "cell_type": "code",
   "execution_count": 18,
   "metadata": {},
   "outputs": [],
   "source": [
    "lines = []\n",
    "for page in range(1,11):\n",
    "    url = 'https://youtube-rank.com/board/bbs/board.php?bo_table=youtube&page='+str(page)\n",
    "    driver.get(url)\n",
    "    time.sleep(3)\n",
    "    soup = BeautifulSoup(driver.page_source,'html.parser')\n",
    "    channel_list = soup.select('.aos-init')\n",
    "\n",
    "    for channel in channel_list:\n",
    "        rank = int(channel.select_one('.rank').get_text().strip())\n",
    "        category = channel.select_one('.category').get_text().strip()\n",
    "        name = channel.select_one('.subject a').get_text().strip()\n",
    "        subscriber = channel.select_one('.subscriber_cnt').get_text().strip()\n",
    "        view = channel.select_one('.view_cnt').get_text().strip()\n",
    "        video = channel.select_one('.video_cnt').get_text().strip()\n",
    "\n",
    "        lines.append([rank, category[1:-1], name, convert_unit(subscriber), convert_unit(view), convert_unit(video)])\n",
    "        "
   ]
  },
  {
   "cell_type": "code",
   "execution_count": 19,
   "metadata": {},
   "outputs": [
    {
     "data": {
      "text/html": [
       "<div>\n",
       "<style scoped>\n",
       "    .dataframe tbody tr th:only-of-type {\n",
       "        vertical-align: middle;\n",
       "    }\n",
       "\n",
       "    .dataframe tbody tr th {\n",
       "        vertical-align: top;\n",
       "    }\n",
       "\n",
       "    .dataframe thead th {\n",
       "        text-align: right;\n",
       "    }\n",
       "</style>\n",
       "<table border=\"1\" class=\"dataframe\">\n",
       "  <thead>\n",
       "    <tr style=\"text-align: right;\">\n",
       "      <th></th>\n",
       "      <th>순위</th>\n",
       "      <th>장르</th>\n",
       "      <th>채널명</th>\n",
       "      <th>구독자수</th>\n",
       "      <th>조회수</th>\n",
       "      <th>비디오수</th>\n",
       "    </tr>\n",
       "  </thead>\n",
       "  <tbody>\n",
       "    <tr>\n",
       "      <th>0</th>\n",
       "      <td>1</td>\n",
       "      <td>음악/댄스/가수</td>\n",
       "      <td>BLACKPINK</td>\n",
       "      <td>70,200,000</td>\n",
       "      <td>21,457,090,000</td>\n",
       "      <td>395</td>\n",
       "    </tr>\n",
       "    <tr>\n",
       "      <th>1</th>\n",
       "      <td>2</td>\n",
       "      <td>음악/댄스/가수</td>\n",
       "      <td>HYBE LABELS</td>\n",
       "      <td>63,000,000</td>\n",
       "      <td>20,496,840,000</td>\n",
       "      <td>725</td>\n",
       "    </tr>\n",
       "    <tr>\n",
       "      <th>2</th>\n",
       "      <td>3</td>\n",
       "      <td>음악/댄스/가수</td>\n",
       "      <td>BANGTANTV</td>\n",
       "      <td>61,500,000</td>\n",
       "      <td>14,077,940,000</td>\n",
       "      <td>1,646</td>\n",
       "    </tr>\n",
       "    <tr>\n",
       "      <th>3</th>\n",
       "      <td>4</td>\n",
       "      <td>음악/댄스/가수</td>\n",
       "      <td>SMTOWN</td>\n",
       "      <td>29,300,000</td>\n",
       "      <td>23,016,410,000</td>\n",
       "      <td>3,779</td>\n",
       "    </tr>\n",
       "    <tr>\n",
       "      <th>4</th>\n",
       "      <td>5</td>\n",
       "      <td>키즈/어린이</td>\n",
       "      <td>Boram Tube Vlog [보람튜브 브이로그]</td>\n",
       "      <td>26,500,000</td>\n",
       "      <td>11,052,880,000</td>\n",
       "      <td>223</td>\n",
       "    </tr>\n",
       "  </tbody>\n",
       "</table>\n",
       "</div>"
      ],
      "text/plain": [
       "   순위        장르                          채널명        구독자수             조회수  \\\n",
       "0   1  음악/댄스/가수                    BLACKPINK  70,200,000  21,457,090,000   \n",
       "1   2  음악/댄스/가수                  HYBE LABELS  63,000,000  20,496,840,000   \n",
       "2   3  음악/댄스/가수                    BANGTANTV  61,500,000  14,077,940,000   \n",
       "3   4  음악/댄스/가수                       SMTOWN  29,300,000  23,016,410,000   \n",
       "4   5    키즈/어린이  Boram Tube Vlog [보람튜브 브이로그]  26,500,000  11,052,880,000   \n",
       "\n",
       "    비디오수  \n",
       "0    395  \n",
       "1    725  \n",
       "2  1,646  \n",
       "3  3,779  \n",
       "4    223  "
      ]
     },
     "execution_count": 19,
     "metadata": {},
     "output_type": "execute_result"
    }
   ],
   "source": [
    "df = pd.DataFrame(lines, columns=['순위','장르','채널명','구독자수','조회수','비디오수'])\n",
    "df.head()"
   ]
  },
  {
   "cell_type": "code",
   "execution_count": 22,
   "metadata": {},
   "outputs": [],
   "source": [
    "# chrome 페이지 10까지 돌아가는지 두눈으로 확인하세요! "
   ]
  },
  {
   "cell_type": "code",
   "execution_count": 20,
   "metadata": {},
   "outputs": [],
   "source": [
    "df.to_csv('유투브랭킹.csv', index = False)"
   ]
  },
  {
   "cell_type": "code",
   "execution_count": 21,
   "metadata": {},
   "outputs": [],
   "source": [
    "driver.close()"
   ]
  }
 ],
 "metadata": {
  "interpreter": {
   "hash": "d990e0f5c79ab62bfe20220d5fc8769a25e3da57dce2813cc13c29871ddc1bfb"
  },
  "kernelspec": {
   "display_name": "Python 3.8.8 64-bit ('base': conda)",
   "language": "python",
   "name": "python3"
  },
  "language_info": {
   "codemirror_mode": {
    "name": "ipython",
    "version": 3
   },
   "file_extension": ".py",
   "mimetype": "text/x-python",
   "name": "python",
   "nbconvert_exporter": "python",
   "pygments_lexer": "ipython3",
   "version": "3.8.8"
  },
  "orig_nbformat": 4
 },
 "nbformat": 4,
 "nbformat_minor": 2
}
