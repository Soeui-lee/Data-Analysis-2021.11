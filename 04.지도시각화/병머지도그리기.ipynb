{
 "cells": [
  {
   "cell_type": "markdown",
   "metadata": {},
   "source": [
    "# 병머 지도 "
   ]
  },
  {
   "cell_type": "code",
   "execution_count": 1,
   "metadata": {},
   "outputs": [],
   "source": [
    "import requests\n",
    "from urllib.parse import quote\n",
    "import pandas as pd\n",
    "import folium\n"
   ]
  },
  {
   "cell_type": "markdown",
   "metadata": {},
   "source": [
    "- api키 가져오기 "
   ]
  },
  {
   "cell_type": "code",
   "execution_count": 2,
   "metadata": {},
   "outputs": [],
   "source": [
    "with open('roadapikey.txt') as file:\n",
    "    road_key = file.read()\n"
   ]
  },
  {
   "cell_type": "code",
   "execution_count": 3,
   "metadata": {},
   "outputs": [
    {
     "data": {
      "text/plain": [
       "43"
      ]
     },
     "execution_count": 3,
     "metadata": {},
     "output_type": "execute_result"
    }
   ],
   "source": [
    "len(road_key)"
   ]
  },
  {
   "cell_type": "code",
   "execution_count": 4,
   "metadata": {},
   "outputs": [
    {
     "data": {
      "text/plain": [
       "'%EC%97%B0%EC%82%B0LG%EC%95%84%ED%8C%8C%ED%8A%B8'"
      ]
     },
     "execution_count": 4,
     "metadata": {},
     "output_type": "execute_result"
    }
   ],
   "source": [
    "quote('연산LG아파트')"
   ]
  },
  {
   "cell_type": "code",
   "execution_count": 5,
   "metadata": {},
   "outputs": [
    {
     "data": {
      "text/plain": [
       "'https://www.juso.go.kr/addrlink/addrLinkApi.do?confmKey=devU01TX0FVVEgyMDIxMTIwMzE0MDYxMjExMTk4ODY=&currentPage=1&countPerPage=10&keyword=%EC%97%B0%EC%82%B0LG%EC%95%84%ED%8C%8C%ED%8A%B8&resultType=json'"
      ]
     },
     "execution_count": 5,
     "metadata": {},
     "output_type": "execute_result"
    }
   ],
   "source": [
    "road_url = 'https://www.juso.go.kr/addrlink/addrLinkApi.do'\n",
    "params1 = f'confmKey={road_key}&currentPage=1&countPerPage=10'\n",
    "params2 = f'keyword={quote(\"연산LG아파트\")}&resultType=json'\n",
    "url = f\"{road_url}?{params1}&{params2}\"\n",
    "url\n"
   ]
  },
  {
   "cell_type": "code",
   "execution_count": 6,
   "metadata": {},
   "outputs": [
    {
     "data": {
      "text/plain": [
       "{'results': {'common': {'errorMessage': '정상',\n",
       "   'countPerPage': '10',\n",
       "   'totalCount': '1',\n",
       "   'errorCode': '0',\n",
       "   'currentPage': '1'},\n",
       "  'juso': [{'detBdNmList': '103동,116동,114동,제106동,120동,119동,121동,제107동,124동,제117동,105동,제123동,제122동,111동,102동,제113동,제 상가동,제 분산상가동,제101동,110동,제104동,118동,108동,제109동,115동,112동',\n",
       "    'engAddr': '200, Gobun-ro, Yeonje-gu, Busan',\n",
       "    'rn': '고분로',\n",
       "    'emdNm': '연산동',\n",
       "    'zipNo': '47585',\n",
       "    'roadAddrPart2': '(연산동, 연산엘지아파트)',\n",
       "    'emdNo': '01',\n",
       "    'sggNm': '연제구',\n",
       "    'jibunAddr': '부산광역시 연제구 연산동 243-18 연산엘지아파트',\n",
       "    'siNm': '부산광역시',\n",
       "    'roadAddrPart1': '부산광역시 연제구 고분로 200',\n",
       "    'bdNm': '연산엘지아파트',\n",
       "    'admCd': '2647010200',\n",
       "    'udrtYn': '0',\n",
       "    'lnbrMnnm': '243',\n",
       "    'roadAddr': '부산광역시 연제구 고분로 200(연산동, 연산엘지아파트)',\n",
       "    'lnbrSlno': '18',\n",
       "    'buldMnnm': '200',\n",
       "    'bdKdcd': '1',\n",
       "    'liNm': '',\n",
       "    'rnMgtSn': '264703135002',\n",
       "    'mtYn': '0',\n",
       "    'bdMgtSn': '2647010200102430018001890',\n",
       "    'buldSlno': '0'}]}}"
      ]
     },
     "execution_count": 6,
     "metadata": {},
     "output_type": "execute_result"
    }
   ],
   "source": [
    "result=requests.get(url).json()\n",
    "result"
   ]
  },
  {
   "cell_type": "code",
   "execution_count": 7,
   "metadata": {},
   "outputs": [
    {
     "data": {
      "text/plain": [
       "dict_keys(['results'])"
      ]
     },
     "execution_count": 7,
     "metadata": {},
     "output_type": "execute_result"
    }
   ],
   "source": [
    "result.keys()"
   ]
  },
  {
   "cell_type": "code",
   "execution_count": 8,
   "metadata": {},
   "outputs": [
    {
     "data": {
      "text/plain": [
       "[{'detBdNmList': '103동,116동,114동,제106동,120동,119동,121동,제107동,124동,제117동,105동,제123동,제122동,111동,102동,제113동,제 상가동,제 분산상가동,제101동,110동,제104동,118동,108동,제109동,115동,112동',\n",
       "  'engAddr': '200, Gobun-ro, Yeonje-gu, Busan',\n",
       "  'rn': '고분로',\n",
       "  'emdNm': '연산동',\n",
       "  'zipNo': '47585',\n",
       "  'roadAddrPart2': '(연산동, 연산엘지아파트)',\n",
       "  'emdNo': '01',\n",
       "  'sggNm': '연제구',\n",
       "  'jibunAddr': '부산광역시 연제구 연산동 243-18 연산엘지아파트',\n",
       "  'siNm': '부산광역시',\n",
       "  'roadAddrPart1': '부산광역시 연제구 고분로 200',\n",
       "  'bdNm': '연산엘지아파트',\n",
       "  'admCd': '2647010200',\n",
       "  'udrtYn': '0',\n",
       "  'lnbrMnnm': '243',\n",
       "  'roadAddr': '부산광역시 연제구 고분로 200(연산동, 연산엘지아파트)',\n",
       "  'lnbrSlno': '18',\n",
       "  'buldMnnm': '200',\n",
       "  'bdKdcd': '1',\n",
       "  'liNm': '',\n",
       "  'rnMgtSn': '264703135002',\n",
       "  'mtYn': '0',\n",
       "  'bdMgtSn': '2647010200102430018001890',\n",
       "  'buldSlno': '0'}]"
      ]
     },
     "execution_count": 8,
     "metadata": {},
     "output_type": "execute_result"
    }
   ],
   "source": [
    "result['results']['juso']"
   ]
  },
  {
   "cell_type": "code",
   "execution_count": 9,
   "metadata": {},
   "outputs": [
    {
     "data": {
      "text/plain": [
       "[{'detBdNmList': '103동,116동,114동,제106동,120동,119동,121동,제107동,124동,제117동,105동,제123동,제122동,111동,102동,제113동,제 상가동,제 분산상가동,제101동,110동,제104동,118동,108동,제109동,115동,112동',\n",
       "  'engAddr': '200, Gobun-ro, Yeonje-gu, Busan',\n",
       "  'rn': '고분로',\n",
       "  'emdNm': '연산동',\n",
       "  'zipNo': '47585',\n",
       "  'roadAddrPart2': '(연산동, 연산엘지아파트)',\n",
       "  'emdNo': '01',\n",
       "  'sggNm': '연제구',\n",
       "  'jibunAddr': '부산광역시 연제구 연산동 243-18 연산엘지아파트',\n",
       "  'siNm': '부산광역시',\n",
       "  'roadAddrPart1': '부산광역시 연제구 고분로 200',\n",
       "  'bdNm': '연산엘지아파트',\n",
       "  'admCd': '2647010200',\n",
       "  'udrtYn': '0',\n",
       "  'lnbrMnnm': '243',\n",
       "  'roadAddr': '부산광역시 연제구 고분로 200(연산동, 연산엘지아파트)',\n",
       "  'lnbrSlno': '18',\n",
       "  'buldMnnm': '200',\n",
       "  'bdKdcd': '1',\n",
       "  'liNm': '',\n",
       "  'rnMgtSn': '264703135002',\n",
       "  'mtYn': '0',\n",
       "  'bdMgtSn': '2647010200102430018001890',\n",
       "  'buldSlno': '0'}]"
      ]
     },
     "execution_count": 9,
     "metadata": {},
     "output_type": "execute_result"
    }
   ],
   "source": [
    "juso_list = result['results']['juso']\n",
    "juso_list"
   ]
  },
  {
   "cell_type": "code",
   "execution_count": 10,
   "metadata": {},
   "outputs": [
    {
     "data": {
      "text/plain": [
       "'부산광역시 연제구 고분로 200(연산동, 연산엘지아파트)'"
      ]
     },
     "execution_count": 10,
     "metadata": {},
     "output_type": "execute_result"
    }
   ],
   "source": [
    "juso_list[0]['roadAddr']"
   ]
  },
  {
   "cell_type": "code",
   "execution_count": 11,
   "metadata": {},
   "outputs": [
    {
     "data": {
      "text/plain": [
       "'부산광역시 연제구 고분로 200(연산동, 연산엘지아파트)'"
      ]
     },
     "execution_count": 11,
     "metadata": {},
     "output_type": "execute_result"
    }
   ],
   "source": [
    "# 즉, \n",
    "result['results']['juso'][0]['roadAddr']"
   ]
  },
  {
   "cell_type": "markdown",
   "metadata": {},
   "source": [
    "- 병머 집 도로명 주소 구하기"
   ]
  },
  {
   "cell_type": "code",
   "execution_count": 12,
   "metadata": {},
   "outputs": [
    {
     "data": {
      "text/plain": [
       "['연산LG아파트',\n",
       " '망미주공아파트',\n",
       " '럭키랜드',\n",
       " '남일고등학교',\n",
       " '학산여자고등학교',\n",
       " '반여4동주민센터',\n",
       " '수안동해바라기아파트',\n",
       " '안락뜨란채1단지',\n",
       " '안락뜨란채2단지',\n",
       " '남일중학교',\n",
       " '온천천경동리인타워']"
      ]
     },
     "execution_count": 12,
     "metadata": {},
     "output_type": "execute_result"
    }
   ],
   "source": [
    "places = ['연산LG아파트', '망미주공아파트', '럭키랜드', '남일고등학교','학산여자고등학교', '반여4동주민센터', '수안동해바라기아파트', '안락뜨란채1단지', '안락뜨란채2단지', '남일중학교', '온천천경동리인타워']\n",
    "places"
   ]
  },
  {
   "cell_type": "code",
   "execution_count": 13,
   "metadata": {},
   "outputs": [],
   "source": [
    "# 도로명 주소를 검색할 수 있는 이름이어야 한다.  "
   ]
  },
  {
   "cell_type": "code",
   "execution_count": 14,
   "metadata": {},
   "outputs": [],
   "source": [
    "addr_list = []      # 반복문 전 빈 리스트 생성\n",
    "for place in places :\n",
    "    url = f\"{road_url}?{params1}&keyword={quote(place)}&resultType=json\"\n",
    "    result = requests.get(url).json()   #보편\n",
    "    addr = result['results']['juso'][0]['roadAddr']\n",
    "    addr_list.append(addr)\n"
   ]
  },
  {
   "cell_type": "code",
   "execution_count": 15,
   "metadata": {},
   "outputs": [
    {
     "data": {
      "text/plain": [
       "['부산광역시 연제구 고분로 200(연산동, 연산엘지아파트)',\n",
       " '부산광역시 연제구 토현로 6(연산동)',\n",
       " '경상남도 진주시 명석면 판문로 504-4',\n",
       " '부산광역시 수영구 망미배산로48번길 85-23(망미동)',\n",
       " '부산광역시 동래구 충렬사로51번길 62(명장동)',\n",
       " '부산광역시 해운대구 삼어로133번길 50(반여동)',\n",
       " '부산광역시 동래구 충렬대로202번길 14(수안동, 해바라기아파트)',\n",
       " '부산광역시 동래구 연안로 71(안락동, 안락뜨란채1단지아파트)',\n",
       " '부산광역시 동래구 연안로 74(안락동, 안락뜨란채2단지아파트)',\n",
       " '부산광역시 동래구 온천천로531번길 49(안락동)',\n",
       " '부산광역시 동래구 수안로8번길 38(수안동, 온천천 경동리인타워2차)']"
      ]
     },
     "execution_count": 15,
     "metadata": {},
     "output_type": "execute_result"
    }
   ],
   "source": [
    "addr_list"
   ]
  },
  {
   "cell_type": "markdown",
   "metadata": {},
   "source": [
    "- 데프로 만들어 주기 "
   ]
  },
  {
   "cell_type": "code",
   "execution_count": 16,
   "metadata": {},
   "outputs": [
    {
     "data": {
      "text/html": [
       "<div>\n",
       "<style scoped>\n",
       "    .dataframe tbody tr th:only-of-type {\n",
       "        vertical-align: middle;\n",
       "    }\n",
       "\n",
       "    .dataframe tbody tr th {\n",
       "        vertical-align: top;\n",
       "    }\n",
       "\n",
       "    .dataframe thead th {\n",
       "        text-align: right;\n",
       "    }\n",
       "</style>\n",
       "<table border=\"1\" class=\"dataframe\">\n",
       "  <thead>\n",
       "    <tr style=\"text-align: right;\">\n",
       "      <th></th>\n",
       "      <th>장소</th>\n",
       "      <th>주소</th>\n",
       "    </tr>\n",
       "  </thead>\n",
       "  <tbody>\n",
       "    <tr>\n",
       "      <th>0</th>\n",
       "      <td>연산LG아파트</td>\n",
       "      <td>부산광역시 연제구 고분로 200(연산동, 연산엘지아파트)</td>\n",
       "    </tr>\n",
       "    <tr>\n",
       "      <th>1</th>\n",
       "      <td>망미주공아파트</td>\n",
       "      <td>부산광역시 연제구 토현로 6(연산동)</td>\n",
       "    </tr>\n",
       "    <tr>\n",
       "      <th>2</th>\n",
       "      <td>럭키랜드</td>\n",
       "      <td>경상남도 진주시 명석면 판문로 504-4</td>\n",
       "    </tr>\n",
       "    <tr>\n",
       "      <th>3</th>\n",
       "      <td>남일고등학교</td>\n",
       "      <td>부산광역시 수영구 망미배산로48번길 85-23(망미동)</td>\n",
       "    </tr>\n",
       "    <tr>\n",
       "      <th>4</th>\n",
       "      <td>학산여자고등학교</td>\n",
       "      <td>부산광역시 동래구 충렬사로51번길 62(명장동)</td>\n",
       "    </tr>\n",
       "    <tr>\n",
       "      <th>5</th>\n",
       "      <td>반여4동주민센터</td>\n",
       "      <td>부산광역시 해운대구 삼어로133번길 50(반여동)</td>\n",
       "    </tr>\n",
       "    <tr>\n",
       "      <th>6</th>\n",
       "      <td>수안동해바라기아파트</td>\n",
       "      <td>부산광역시 동래구 충렬대로202번길 14(수안동, 해바라기아파트)</td>\n",
       "    </tr>\n",
       "    <tr>\n",
       "      <th>7</th>\n",
       "      <td>안락뜨란채1단지</td>\n",
       "      <td>부산광역시 동래구 연안로 71(안락동, 안락뜨란채1단지아파트)</td>\n",
       "    </tr>\n",
       "    <tr>\n",
       "      <th>8</th>\n",
       "      <td>안락뜨란채2단지</td>\n",
       "      <td>부산광역시 동래구 연안로 74(안락동, 안락뜨란채2단지아파트)</td>\n",
       "    </tr>\n",
       "    <tr>\n",
       "      <th>9</th>\n",
       "      <td>남일중학교</td>\n",
       "      <td>부산광역시 동래구 온천천로531번길 49(안락동)</td>\n",
       "    </tr>\n",
       "    <tr>\n",
       "      <th>10</th>\n",
       "      <td>온천천경동리인타워</td>\n",
       "      <td>부산광역시 동래구 수안로8번길 38(수안동, 온천천 경동리인타워2차)</td>\n",
       "    </tr>\n",
       "  </tbody>\n",
       "</table>\n",
       "</div>"
      ],
      "text/plain": [
       "            장소                                      주소\n",
       "0      연산LG아파트         부산광역시 연제구 고분로 200(연산동, 연산엘지아파트)\n",
       "1      망미주공아파트                    부산광역시 연제구 토현로 6(연산동)\n",
       "2         럭키랜드                  경상남도 진주시 명석면 판문로 504-4\n",
       "3       남일고등학교          부산광역시 수영구 망미배산로48번길 85-23(망미동)\n",
       "4     학산여자고등학교              부산광역시 동래구 충렬사로51번길 62(명장동)\n",
       "5     반여4동주민센터             부산광역시 해운대구 삼어로133번길 50(반여동)\n",
       "6   수안동해바라기아파트    부산광역시 동래구 충렬대로202번길 14(수안동, 해바라기아파트)\n",
       "7     안락뜨란채1단지      부산광역시 동래구 연안로 71(안락동, 안락뜨란채1단지아파트)\n",
       "8     안락뜨란채2단지      부산광역시 동래구 연안로 74(안락동, 안락뜨란채2단지아파트)\n",
       "9        남일중학교             부산광역시 동래구 온천천로531번길 49(안락동)\n",
       "10   온천천경동리인타워  부산광역시 동래구 수안로8번길 38(수안동, 온천천 경동리인타워2차)"
      ]
     },
     "execution_count": 16,
     "metadata": {},
     "output_type": "execute_result"
    }
   ],
   "source": [
    "df = pd.DataFrame({'장소': places, '주소': addr_list})\n",
    "df"
   ]
  },
  {
   "cell_type": "code",
   "execution_count": 17,
   "metadata": {},
   "outputs": [],
   "source": [
    "# 선생님 :  이 데프 수작업으로 구한 거 아니지 ㅋㅋ 프로그램으로 구했지? ㅋㅋ\n",
    "# 네... 한참 헤맸지만... 프로그램으로 구했습니다 \n",
    "# 그리고 도로명주소가 검색되지 않는 이름으로는 프로그램이 안 돌아간다는 것도 느꼈습니다. \n"
   ]
  },
  {
   "cell_type": "code",
   "execution_count": 18,
   "metadata": {},
   "outputs": [
    {
     "data": {
      "text/html": [
       "<div>\n",
       "<style scoped>\n",
       "    .dataframe tbody tr th:only-of-type {\n",
       "        vertical-align: middle;\n",
       "    }\n",
       "\n",
       "    .dataframe tbody tr th {\n",
       "        vertical-align: top;\n",
       "    }\n",
       "\n",
       "    .dataframe thead th {\n",
       "        text-align: right;\n",
       "    }\n",
       "</style>\n",
       "<table border=\"1\" class=\"dataframe\">\n",
       "  <thead>\n",
       "    <tr style=\"text-align: right;\">\n",
       "      <th></th>\n",
       "      <th>장소</th>\n",
       "      <th>주소</th>\n",
       "      <th>누구집</th>\n",
       "    </tr>\n",
       "  </thead>\n",
       "  <tbody>\n",
       "    <tr>\n",
       "      <th>0</th>\n",
       "      <td>연산LG아파트</td>\n",
       "      <td>부산광역시 연제구 고분로 200(연산동, 연산엘지아파트)</td>\n",
       "      <td>이소의</td>\n",
       "    </tr>\n",
       "    <tr>\n",
       "      <th>1</th>\n",
       "      <td>망미주공아파트</td>\n",
       "      <td>부산광역시 연제구 토현로 6(연산동)</td>\n",
       "      <td>노명희</td>\n",
       "    </tr>\n",
       "    <tr>\n",
       "      <th>2</th>\n",
       "      <td>럭키랜드</td>\n",
       "      <td>경상남도 진주시 명석면 판문로 504-4</td>\n",
       "      <td>김연지</td>\n",
       "    </tr>\n",
       "    <tr>\n",
       "      <th>3</th>\n",
       "      <td>남일고등학교</td>\n",
       "      <td>부산광역시 수영구 망미배산로48번길 85-23(망미동)</td>\n",
       "      <td>진주현</td>\n",
       "    </tr>\n",
       "    <tr>\n",
       "      <th>4</th>\n",
       "      <td>학산여자고등학교</td>\n",
       "      <td>부산광역시 동래구 충렬사로51번길 62(명장동)</td>\n",
       "      <td>이지인</td>\n",
       "    </tr>\n",
       "    <tr>\n",
       "      <th>5</th>\n",
       "      <td>반여4동주민센터</td>\n",
       "      <td>부산광역시 해운대구 삼어로133번길 50(반여동)</td>\n",
       "      <td>류은지</td>\n",
       "    </tr>\n",
       "    <tr>\n",
       "      <th>6</th>\n",
       "      <td>수안동해바라기아파트</td>\n",
       "      <td>부산광역시 동래구 충렬대로202번길 14(수안동, 해바라기아파트)</td>\n",
       "      <td>김지현</td>\n",
       "    </tr>\n",
       "    <tr>\n",
       "      <th>7</th>\n",
       "      <td>안락뜨란채1단지</td>\n",
       "      <td>부산광역시 동래구 연안로 71(안락동, 안락뜨란채1단지아파트)</td>\n",
       "      <td>서지우</td>\n",
       "    </tr>\n",
       "    <tr>\n",
       "      <th>8</th>\n",
       "      <td>안락뜨란채2단지</td>\n",
       "      <td>부산광역시 동래구 연안로 74(안락동, 안락뜨란채2단지아파트)</td>\n",
       "      <td>위정현</td>\n",
       "    </tr>\n",
       "    <tr>\n",
       "      <th>9</th>\n",
       "      <td>남일중학교</td>\n",
       "      <td>부산광역시 동래구 온천천로531번길 49(안락동)</td>\n",
       "      <td>김유진</td>\n",
       "    </tr>\n",
       "    <tr>\n",
       "      <th>10</th>\n",
       "      <td>온천천경동리인타워</td>\n",
       "      <td>부산광역시 동래구 수안로8번길 38(수안동, 온천천 경동리인타워2차)</td>\n",
       "      <td>임채준</td>\n",
       "    </tr>\n",
       "  </tbody>\n",
       "</table>\n",
       "</div>"
      ],
      "text/plain": [
       "            장소                                      주소  누구집\n",
       "0      연산LG아파트         부산광역시 연제구 고분로 200(연산동, 연산엘지아파트)  이소의\n",
       "1      망미주공아파트                    부산광역시 연제구 토현로 6(연산동)  노명희\n",
       "2         럭키랜드                  경상남도 진주시 명석면 판문로 504-4  김연지\n",
       "3       남일고등학교          부산광역시 수영구 망미배산로48번길 85-23(망미동)  진주현\n",
       "4     학산여자고등학교              부산광역시 동래구 충렬사로51번길 62(명장동)  이지인\n",
       "5     반여4동주민센터             부산광역시 해운대구 삼어로133번길 50(반여동)  류은지\n",
       "6   수안동해바라기아파트    부산광역시 동래구 충렬대로202번길 14(수안동, 해바라기아파트)  김지현\n",
       "7     안락뜨란채1단지      부산광역시 동래구 연안로 71(안락동, 안락뜨란채1단지아파트)  서지우\n",
       "8     안락뜨란채2단지      부산광역시 동래구 연안로 74(안락동, 안락뜨란채2단지아파트)  위정현\n",
       "9        남일중학교             부산광역시 동래구 온천천로531번길 49(안락동)  김유진\n",
       "10   온천천경동리인타워  부산광역시 동래구 수안로8번길 38(수안동, 온천천 경동리인타워2차)  임채준"
      ]
     },
     "execution_count": 18,
     "metadata": {},
     "output_type": "execute_result"
    }
   ],
   "source": [
    "df['누구집'] = ['이소의','노명희','김연지','진주현','이지인','류은지','김지현','서지우','위정현','김유진','임채준']\n",
    "df"
   ]
  },
  {
   "cell_type": "code",
   "execution_count": 19,
   "metadata": {},
   "outputs": [],
   "source": [
    "df.to_csv('병머집.csv',index=False)"
   ]
  },
  {
   "cell_type": "markdown",
   "metadata": {},
   "source": [
    "## 위도, 경도 찾아주기 "
   ]
  },
  {
   "cell_type": "code",
   "execution_count": 20,
   "metadata": {},
   "outputs": [],
   "source": [
    "with open('kakaoapikey.txt') as file:\n",
    "    kakao_key = file.read()"
   ]
  },
  {
   "cell_type": "code",
   "execution_count": 21,
   "metadata": {},
   "outputs": [
    {
     "data": {
      "text/plain": [
       "32"
      ]
     },
     "execution_count": 21,
     "metadata": {},
     "output_type": "execute_result"
    }
   ],
   "source": [
    "len(kakao_key)"
   ]
  },
  {
   "cell_type": "markdown",
   "metadata": {},
   "source": [
    "- url 만들기"
   ]
  },
  {
   "cell_type": "code",
   "execution_count": 22,
   "metadata": {},
   "outputs": [
    {
     "data": {
      "text/plain": [
       "'https://dapi.kakao.com/v2/local/search/address.json?query=%EB%B6%80%EC%82%B0%EA%B4%91%EC%97%AD%EC%8B%9C%20%EC%97%B0%EC%A0%9C%EA%B5%AC%20%EA%B3%A0%EB%B6%84%EB%A1%9C%20200%28%EC%97%B0%EC%82%B0%EB%8F%99%2C%20%EC%97%B0%EC%82%B0%EC%97%98%EC%A7%80%EC%95%84%ED%8C%8C%ED%8A%B8'"
      ]
     },
     "execution_count": 22,
     "metadata": {},
     "output_type": "execute_result"
    }
   ],
   "source": [
    "local_url = \"https://dapi.kakao.com/v2/local/search/address.json\"\n",
    "addr = '부산광역시 연제구 고분로 200(연산동, 연산엘지아파트'\n",
    "url = f'{local_url}?query={quote(addr)}'\n",
    "url"
   ]
  },
  {
   "cell_type": "code",
   "execution_count": 23,
   "metadata": {},
   "outputs": [],
   "source": [
    "header = {\"Authorization\" : f'KakaoAK {kakao_key}'}"
   ]
  },
  {
   "cell_type": "code",
   "execution_count": 24,
   "metadata": {},
   "outputs": [
    {
     "data": {
      "text/plain": [
       "{'documents': [{'address': {'address_name': '부산 연제구 연산동 243-18',\n",
       "    'b_code': '2647010200',\n",
       "    'h_code': '2647073000',\n",
       "    'main_address_no': '243',\n",
       "    'mountain_yn': 'N',\n",
       "    'region_1depth_name': '부산',\n",
       "    'region_2depth_name': '연제구',\n",
       "    'region_3depth_h_name': '연산9동',\n",
       "    'region_3depth_name': '연산동',\n",
       "    'sub_address_no': '18',\n",
       "    'x': '129.104619815874',\n",
       "    'y': '35.1840917874952'},\n",
       "   'address_name': '부산 연제구 고분로 200',\n",
       "   'address_type': 'ROAD_ADDR',\n",
       "   'road_address': {'address_name': '부산 연제구 고분로 200',\n",
       "    'building_name': '연산엘지아파트',\n",
       "    'main_building_no': '200',\n",
       "    'region_1depth_name': '부산',\n",
       "    'region_2depth_name': '연제구',\n",
       "    'region_3depth_name': '연산동',\n",
       "    'road_name': '고분로',\n",
       "    'sub_building_no': '',\n",
       "    'underground_yn': 'N',\n",
       "    'x': '129.104619815874',\n",
       "    'y': '35.1840917874952',\n",
       "    'zone_no': '47585'},\n",
       "   'x': '129.104619815874',\n",
       "   'y': '35.1840917874952'}],\n",
       " 'meta': {'is_end': True, 'pageable_count': 1, 'total_count': 1}}"
      ]
     },
     "execution_count": 24,
     "metadata": {},
     "output_type": "execute_result"
    }
   ],
   "source": [
    "result = requests.get(url,headers=header).json()\n",
    "result"
   ]
  },
  {
   "cell_type": "code",
   "execution_count": 25,
   "metadata": {},
   "outputs": [
    {
     "data": {
      "text/plain": [
       "129.104619815874"
      ]
     },
     "execution_count": 25,
     "metadata": {},
     "output_type": "execute_result"
    }
   ],
   "source": [
    "lng = float(result['documents'][0]['x'])\n",
    "lng"
   ]
  },
  {
   "cell_type": "code",
   "execution_count": 26,
   "metadata": {},
   "outputs": [
    {
     "data": {
      "text/plain": [
       "35.1840917874952"
      ]
     },
     "execution_count": 26,
     "metadata": {},
     "output_type": "execute_result"
    }
   ],
   "source": [
    "lat= float(result['documents'][0]['y'])\n",
    "lat"
   ]
  },
  {
   "cell_type": "code",
   "execution_count": 27,
   "metadata": {},
   "outputs": [
    {
     "data": {
      "text/plain": [
       "RangeIndex(start=0, stop=11, step=1)"
      ]
     },
     "execution_count": 27,
     "metadata": {},
     "output_type": "execute_result"
    }
   ],
   "source": [
    "df.index"
   ]
  },
  {
   "cell_type": "code",
   "execution_count": 28,
   "metadata": {},
   "outputs": [],
   "source": [
    "lng_list, lat_list = [], []       \n",
    "for i in df.index:\n",
    "    url = f'{local_url}?query={quote(df.주소[i])}'    \n",
    "    result = requests.get(url,headers=header).json()\n",
    "    lng = float(result['documents'][0]['x'])\n",
    "    lat = float(result['documents'][0]['y'])\n",
    "    lng_list.append(lng)\n",
    "    lat_list.append(lat)      "
   ]
  },
  {
   "cell_type": "code",
   "execution_count": 29,
   "metadata": {},
   "outputs": [
    {
     "data": {
      "text/html": [
       "<div>\n",
       "<style scoped>\n",
       "    .dataframe tbody tr th:only-of-type {\n",
       "        vertical-align: middle;\n",
       "    }\n",
       "\n",
       "    .dataframe tbody tr th {\n",
       "        vertical-align: top;\n",
       "    }\n",
       "\n",
       "    .dataframe thead th {\n",
       "        text-align: right;\n",
       "    }\n",
       "</style>\n",
       "<table border=\"1\" class=\"dataframe\">\n",
       "  <thead>\n",
       "    <tr style=\"text-align: right;\">\n",
       "      <th></th>\n",
       "      <th>장소</th>\n",
       "      <th>주소</th>\n",
       "      <th>누구집</th>\n",
       "      <th>위도</th>\n",
       "      <th>경도</th>\n",
       "    </tr>\n",
       "  </thead>\n",
       "  <tbody>\n",
       "    <tr>\n",
       "      <th>0</th>\n",
       "      <td>연산LG아파트</td>\n",
       "      <td>부산광역시 연제구 고분로 200(연산동, 연산엘지아파트)</td>\n",
       "      <td>이소의</td>\n",
       "      <td>35.184092</td>\n",
       "      <td>129.104620</td>\n",
       "    </tr>\n",
       "    <tr>\n",
       "      <th>1</th>\n",
       "      <td>망미주공아파트</td>\n",
       "      <td>부산광역시 연제구 토현로 6(연산동)</td>\n",
       "      <td>노명희</td>\n",
       "      <td>35.180035</td>\n",
       "      <td>129.107804</td>\n",
       "    </tr>\n",
       "    <tr>\n",
       "      <th>2</th>\n",
       "      <td>럭키랜드</td>\n",
       "      <td>경상남도 진주시 명석면 판문로 504-4</td>\n",
       "      <td>김연지</td>\n",
       "      <td>35.210193</td>\n",
       "      <td>128.030689</td>\n",
       "    </tr>\n",
       "    <tr>\n",
       "      <th>3</th>\n",
       "      <td>남일고등학교</td>\n",
       "      <td>부산광역시 수영구 망미배산로48번길 85-23(망미동)</td>\n",
       "      <td>진주현</td>\n",
       "      <td>35.178566</td>\n",
       "      <td>129.101171</td>\n",
       "    </tr>\n",
       "    <tr>\n",
       "      <th>4</th>\n",
       "      <td>학산여자고등학교</td>\n",
       "      <td>부산광역시 동래구 충렬사로51번길 62(명장동)</td>\n",
       "      <td>이지인</td>\n",
       "      <td>35.206442</td>\n",
       "      <td>129.096549</td>\n",
       "    </tr>\n",
       "    <tr>\n",
       "      <th>5</th>\n",
       "      <td>반여4동주민센터</td>\n",
       "      <td>부산광역시 해운대구 삼어로133번길 50(반여동)</td>\n",
       "      <td>류은지</td>\n",
       "      <td>35.209239</td>\n",
       "      <td>129.117090</td>\n",
       "    </tr>\n",
       "    <tr>\n",
       "      <th>6</th>\n",
       "      <td>수안동해바라기아파트</td>\n",
       "      <td>부산광역시 동래구 충렬대로202번길 14(수안동, 해바라기아파트)</td>\n",
       "      <td>김지현</td>\n",
       "      <td>35.200774</td>\n",
       "      <td>129.081223</td>\n",
       "    </tr>\n",
       "    <tr>\n",
       "      <th>7</th>\n",
       "      <td>안락뜨란채1단지</td>\n",
       "      <td>부산광역시 동래구 연안로 71(안락동, 안락뜨란채1단지아파트)</td>\n",
       "      <td>서지우</td>\n",
       "      <td>35.194764</td>\n",
       "      <td>129.107600</td>\n",
       "    </tr>\n",
       "    <tr>\n",
       "      <th>8</th>\n",
       "      <td>안락뜨란채2단지</td>\n",
       "      <td>부산광역시 동래구 연안로 74(안락동, 안락뜨란채2단지아파트)</td>\n",
       "      <td>위정현</td>\n",
       "      <td>35.192742</td>\n",
       "      <td>129.110161</td>\n",
       "    </tr>\n",
       "    <tr>\n",
       "      <th>9</th>\n",
       "      <td>남일중학교</td>\n",
       "      <td>부산광역시 동래구 온천천로531번길 49(안락동)</td>\n",
       "      <td>김유진</td>\n",
       "      <td>35.193122</td>\n",
       "      <td>129.111626</td>\n",
       "    </tr>\n",
       "    <tr>\n",
       "      <th>10</th>\n",
       "      <td>온천천경동리인타워</td>\n",
       "      <td>부산광역시 동래구 수안로8번길 38(수안동, 온천천 경동리인타워2차)</td>\n",
       "      <td>임채준</td>\n",
       "      <td>35.194297</td>\n",
       "      <td>129.090049</td>\n",
       "    </tr>\n",
       "  </tbody>\n",
       "</table>\n",
       "</div>"
      ],
      "text/plain": [
       "            장소                                      주소  누구집         위도  \\\n",
       "0      연산LG아파트         부산광역시 연제구 고분로 200(연산동, 연산엘지아파트)  이소의  35.184092   \n",
       "1      망미주공아파트                    부산광역시 연제구 토현로 6(연산동)  노명희  35.180035   \n",
       "2         럭키랜드                  경상남도 진주시 명석면 판문로 504-4  김연지  35.210193   \n",
       "3       남일고등학교          부산광역시 수영구 망미배산로48번길 85-23(망미동)  진주현  35.178566   \n",
       "4     학산여자고등학교              부산광역시 동래구 충렬사로51번길 62(명장동)  이지인  35.206442   \n",
       "5     반여4동주민센터             부산광역시 해운대구 삼어로133번길 50(반여동)  류은지  35.209239   \n",
       "6   수안동해바라기아파트    부산광역시 동래구 충렬대로202번길 14(수안동, 해바라기아파트)  김지현  35.200774   \n",
       "7     안락뜨란채1단지      부산광역시 동래구 연안로 71(안락동, 안락뜨란채1단지아파트)  서지우  35.194764   \n",
       "8     안락뜨란채2단지      부산광역시 동래구 연안로 74(안락동, 안락뜨란채2단지아파트)  위정현  35.192742   \n",
       "9        남일중학교             부산광역시 동래구 온천천로531번길 49(안락동)  김유진  35.193122   \n",
       "10   온천천경동리인타워  부산광역시 동래구 수안로8번길 38(수안동, 온천천 경동리인타워2차)  임채준  35.194297   \n",
       "\n",
       "            경도  \n",
       "0   129.104620  \n",
       "1   129.107804  \n",
       "2   128.030689  \n",
       "3   129.101171  \n",
       "4   129.096549  \n",
       "5   129.117090  \n",
       "6   129.081223  \n",
       "7   129.107600  \n",
       "8   129.110161  \n",
       "9   129.111626  \n",
       "10  129.090049  "
      ]
     },
     "execution_count": 29,
     "metadata": {},
     "output_type": "execute_result"
    }
   ],
   "source": [
    "df['위도'] = lat_list\n",
    "df['경도'] = lng_list\n",
    "df"
   ]
  },
  {
   "cell_type": "code",
   "execution_count": 30,
   "metadata": {},
   "outputs": [],
   "source": [
    "df.to_csv('병머집2.csv', index = False)"
   ]
  },
  {
   "cell_type": "code",
   "execution_count": 31,
   "metadata": {},
   "outputs": [
    {
     "data": {
      "text/html": [
       "<div>\n",
       "<style scoped>\n",
       "    .dataframe tbody tr th:only-of-type {\n",
       "        vertical-align: middle;\n",
       "    }\n",
       "\n",
       "    .dataframe tbody tr th {\n",
       "        vertical-align: top;\n",
       "    }\n",
       "\n",
       "    .dataframe thead th {\n",
       "        text-align: right;\n",
       "    }\n",
       "</style>\n",
       "<table border=\"1\" class=\"dataframe\">\n",
       "  <thead>\n",
       "    <tr style=\"text-align: right;\">\n",
       "      <th></th>\n",
       "      <th>장소</th>\n",
       "      <th>주소</th>\n",
       "      <th>누구집</th>\n",
       "      <th>위도</th>\n",
       "      <th>경도</th>\n",
       "    </tr>\n",
       "  </thead>\n",
       "  <tbody>\n",
       "    <tr>\n",
       "      <th>0</th>\n",
       "      <td>연산LG아파트</td>\n",
       "      <td>부산광역시 연제구 고분로 200(연산동, 연산엘지아파트)</td>\n",
       "      <td>이소의</td>\n",
       "      <td>35.184092</td>\n",
       "      <td>129.104620</td>\n",
       "    </tr>\n",
       "    <tr>\n",
       "      <th>1</th>\n",
       "      <td>망미주공아파트</td>\n",
       "      <td>부산광역시 연제구 토현로 6(연산동)</td>\n",
       "      <td>노명희</td>\n",
       "      <td>35.180035</td>\n",
       "      <td>129.107804</td>\n",
       "    </tr>\n",
       "    <tr>\n",
       "      <th>2</th>\n",
       "      <td>럭키랜드</td>\n",
       "      <td>경상남도 진주시 명석면 판문로 504-4</td>\n",
       "      <td>김연지</td>\n",
       "      <td>35.210193</td>\n",
       "      <td>128.030689</td>\n",
       "    </tr>\n",
       "    <tr>\n",
       "      <th>3</th>\n",
       "      <td>남일고등학교</td>\n",
       "      <td>부산광역시 수영구 망미배산로48번길 85-23(망미동)</td>\n",
       "      <td>진주현</td>\n",
       "      <td>35.178566</td>\n",
       "      <td>129.101171</td>\n",
       "    </tr>\n",
       "    <tr>\n",
       "      <th>4</th>\n",
       "      <td>학산여자고등학교</td>\n",
       "      <td>부산광역시 동래구 충렬사로51번길 62(명장동)</td>\n",
       "      <td>이지인</td>\n",
       "      <td>35.206442</td>\n",
       "      <td>129.096549</td>\n",
       "    </tr>\n",
       "    <tr>\n",
       "      <th>5</th>\n",
       "      <td>반여4동주민센터</td>\n",
       "      <td>부산광역시 해운대구 삼어로133번길 50(반여동)</td>\n",
       "      <td>류은지</td>\n",
       "      <td>35.209239</td>\n",
       "      <td>129.117090</td>\n",
       "    </tr>\n",
       "    <tr>\n",
       "      <th>6</th>\n",
       "      <td>수안동해바라기아파트</td>\n",
       "      <td>부산광역시 동래구 충렬대로202번길 14(수안동, 해바라기아파트)</td>\n",
       "      <td>김지현</td>\n",
       "      <td>35.200774</td>\n",
       "      <td>129.081223</td>\n",
       "    </tr>\n",
       "    <tr>\n",
       "      <th>7</th>\n",
       "      <td>안락뜨란채1단지</td>\n",
       "      <td>부산광역시 동래구 연안로 71(안락동, 안락뜨란채1단지아파트)</td>\n",
       "      <td>서지우</td>\n",
       "      <td>35.194764</td>\n",
       "      <td>129.107600</td>\n",
       "    </tr>\n",
       "    <tr>\n",
       "      <th>8</th>\n",
       "      <td>안락뜨란채2단지</td>\n",
       "      <td>부산광역시 동래구 연안로 74(안락동, 안락뜨란채2단지아파트)</td>\n",
       "      <td>위정현</td>\n",
       "      <td>35.192742</td>\n",
       "      <td>129.110161</td>\n",
       "    </tr>\n",
       "    <tr>\n",
       "      <th>9</th>\n",
       "      <td>남일중학교</td>\n",
       "      <td>부산광역시 동래구 온천천로531번길 49(안락동)</td>\n",
       "      <td>김유진</td>\n",
       "      <td>35.193122</td>\n",
       "      <td>129.111626</td>\n",
       "    </tr>\n",
       "    <tr>\n",
       "      <th>10</th>\n",
       "      <td>온천천경동리인타워</td>\n",
       "      <td>부산광역시 동래구 수안로8번길 38(수안동, 온천천 경동리인타워2차)</td>\n",
       "      <td>임채준</td>\n",
       "      <td>35.194297</td>\n",
       "      <td>129.090049</td>\n",
       "    </tr>\n",
       "  </tbody>\n",
       "</table>\n",
       "</div>"
      ],
      "text/plain": [
       "            장소                                      주소  누구집         위도  \\\n",
       "0      연산LG아파트         부산광역시 연제구 고분로 200(연산동, 연산엘지아파트)  이소의  35.184092   \n",
       "1      망미주공아파트                    부산광역시 연제구 토현로 6(연산동)  노명희  35.180035   \n",
       "2         럭키랜드                  경상남도 진주시 명석면 판문로 504-4  김연지  35.210193   \n",
       "3       남일고등학교          부산광역시 수영구 망미배산로48번길 85-23(망미동)  진주현  35.178566   \n",
       "4     학산여자고등학교              부산광역시 동래구 충렬사로51번길 62(명장동)  이지인  35.206442   \n",
       "5     반여4동주민센터             부산광역시 해운대구 삼어로133번길 50(반여동)  류은지  35.209239   \n",
       "6   수안동해바라기아파트    부산광역시 동래구 충렬대로202번길 14(수안동, 해바라기아파트)  김지현  35.200774   \n",
       "7     안락뜨란채1단지      부산광역시 동래구 연안로 71(안락동, 안락뜨란채1단지아파트)  서지우  35.194764   \n",
       "8     안락뜨란채2단지      부산광역시 동래구 연안로 74(안락동, 안락뜨란채2단지아파트)  위정현  35.192742   \n",
       "9        남일중학교             부산광역시 동래구 온천천로531번길 49(안락동)  김유진  35.193122   \n",
       "10   온천천경동리인타워  부산광역시 동래구 수안로8번길 38(수안동, 온천천 경동리인타워2차)  임채준  35.194297   \n",
       "\n",
       "            경도  \n",
       "0   129.104620  \n",
       "1   129.107804  \n",
       "2   128.030689  \n",
       "3   129.101171  \n",
       "4   129.096549  \n",
       "5   129.117090  \n",
       "6   129.081223  \n",
       "7   129.107600  \n",
       "8   129.110161  \n",
       "9   129.111626  \n",
       "10  129.090049  "
      ]
     },
     "execution_count": 31,
     "metadata": {},
     "output_type": "execute_result"
    }
   ],
   "source": [
    "df = pd.read_csv('병머집2.csv')\n",
    "df"
   ]
  },
  {
   "cell_type": "code",
   "execution_count": 33,
   "metadata": {},
   "outputs": [
    {
     "data": {
      "text/html": [
       "<div style=\"width:100%;\"><div style=\"position:relative;width:100%;height:0;padding-bottom:60%;\"><span style=\"color:#565656\">Make this Notebook Trusted to load map: File -> Trust Notebook</span><iframe src=\"about:blank\" style=\"position:absolute;width:100%;height:100%;left:0;top:0;border:none !important;\" data-html=%3C%21DOCTYPE%20html%3E%0A%3Chead%3E%20%20%20%20%0A%20%20%20%20%3Cmeta%20http-equiv%3D%22content-type%22%20content%3D%22text/html%3B%20charset%3DUTF-8%22%20/%3E%0A%20%20%20%20%0A%20%20%20%20%20%20%20%20%3Cscript%3E%0A%20%20%20%20%20%20%20%20%20%20%20%20L_NO_TOUCH%20%3D%20false%3B%0A%20%20%20%20%20%20%20%20%20%20%20%20L_DISABLE_3D%20%3D%20false%3B%0A%20%20%20%20%20%20%20%20%3C/script%3E%0A%20%20%20%20%0A%20%20%20%20%3Cstyle%3Ehtml%2C%20body%20%7Bwidth%3A%20100%25%3Bheight%3A%20100%25%3Bmargin%3A%200%3Bpadding%3A%200%3B%7D%3C/style%3E%0A%20%20%20%20%3Cstyle%3E%23map%20%7Bposition%3Aabsolute%3Btop%3A0%3Bbottom%3A0%3Bright%3A0%3Bleft%3A0%3B%7D%3C/style%3E%0A%20%20%20%20%3Cscript%20src%3D%22https%3A//cdn.jsdelivr.net/npm/leaflet%401.6.0/dist/leaflet.js%22%3E%3C/script%3E%0A%20%20%20%20%3Cscript%20src%3D%22https%3A//code.jquery.com/jquery-1.12.4.min.js%22%3E%3C/script%3E%0A%20%20%20%20%3Cscript%20src%3D%22https%3A//maxcdn.bootstrapcdn.com/bootstrap/3.2.0/js/bootstrap.min.js%22%3E%3C/script%3E%0A%20%20%20%20%3Cscript%20src%3D%22https%3A//cdnjs.cloudflare.com/ajax/libs/Leaflet.awesome-markers/2.0.2/leaflet.awesome-markers.js%22%3E%3C/script%3E%0A%20%20%20%20%3Clink%20rel%3D%22stylesheet%22%20href%3D%22https%3A//cdn.jsdelivr.net/npm/leaflet%401.6.0/dist/leaflet.css%22/%3E%0A%20%20%20%20%3Clink%20rel%3D%22stylesheet%22%20href%3D%22https%3A//maxcdn.bootstrapcdn.com/bootstrap/3.2.0/css/bootstrap.min.css%22/%3E%0A%20%20%20%20%3Clink%20rel%3D%22stylesheet%22%20href%3D%22https%3A//maxcdn.bootstrapcdn.com/bootstrap/3.2.0/css/bootstrap-theme.min.css%22/%3E%0A%20%20%20%20%3Clink%20rel%3D%22stylesheet%22%20href%3D%22https%3A//maxcdn.bootstrapcdn.com/font-awesome/4.6.3/css/font-awesome.min.css%22/%3E%0A%20%20%20%20%3Clink%20rel%3D%22stylesheet%22%20href%3D%22https%3A//cdnjs.cloudflare.com/ajax/libs/Leaflet.awesome-markers/2.0.2/leaflet.awesome-markers.css%22/%3E%0A%20%20%20%20%3Clink%20rel%3D%22stylesheet%22%20href%3D%22https%3A//cdn.jsdelivr.net/gh/python-visualization/folium/folium/templates/leaflet.awesome.rotate.min.css%22/%3E%0A%20%20%20%20%0A%20%20%20%20%20%20%20%20%20%20%20%20%3Cmeta%20name%3D%22viewport%22%20content%3D%22width%3Ddevice-width%2C%0A%20%20%20%20%20%20%20%20%20%20%20%20%20%20%20%20initial-scale%3D1.0%2C%20maximum-scale%3D1.0%2C%20user-scalable%3Dno%22%20/%3E%0A%20%20%20%20%20%20%20%20%20%20%20%20%3Cstyle%3E%0A%20%20%20%20%20%20%20%20%20%20%20%20%20%20%20%20%23map_35195e9e10534895b1562e42b1dab4ec%20%7B%0A%20%20%20%20%20%20%20%20%20%20%20%20%20%20%20%20%20%20%20%20position%3A%20relative%3B%0A%20%20%20%20%20%20%20%20%20%20%20%20%20%20%20%20%20%20%20%20width%3A%20100.0%25%3B%0A%20%20%20%20%20%20%20%20%20%20%20%20%20%20%20%20%20%20%20%20height%3A%20100.0%25%3B%0A%20%20%20%20%20%20%20%20%20%20%20%20%20%20%20%20%20%20%20%20left%3A%200.0%25%3B%0A%20%20%20%20%20%20%20%20%20%20%20%20%20%20%20%20%20%20%20%20top%3A%200.0%25%3B%0A%20%20%20%20%20%20%20%20%20%20%20%20%20%20%20%20%7D%0A%20%20%20%20%20%20%20%20%20%20%20%20%3C/style%3E%0A%20%20%20%20%20%20%20%20%0A%3C/head%3E%0A%3Cbody%3E%20%20%20%20%0A%20%20%20%20%3Ch3%20align%3D%22center%22%20style%3D%22font-size%3A20px%22%3E%EB%B3%91%EB%A8%B8%20%ED%95%98%EC%9A%B0%EC%8A%A4%3C/h3%3E%0A%20%20%20%20%0A%20%20%20%20%20%20%20%20%20%20%20%20%3Cdiv%20class%3D%22folium-map%22%20id%3D%22map_35195e9e10534895b1562e42b1dab4ec%22%20%3E%3C/div%3E%0A%20%20%20%20%20%20%20%20%0A%3C/body%3E%0A%3Cscript%3E%20%20%20%20%0A%20%20%20%20%0A%20%20%20%20%20%20%20%20%20%20%20%20var%20map_35195e9e10534895b1562e42b1dab4ec%20%3D%20L.map%28%0A%20%20%20%20%20%20%20%20%20%20%20%20%20%20%20%20%22map_35195e9e10534895b1562e42b1dab4ec%22%2C%0A%20%20%20%20%20%20%20%20%20%20%20%20%20%20%20%20%7B%0A%20%20%20%20%20%20%20%20%20%20%20%20%20%20%20%20%20%20%20%20center%3A%20%5B35.194933185275374%2C%20129.00532579470945%5D%2C%0A%20%20%20%20%20%20%20%20%20%20%20%20%20%20%20%20%20%20%20%20crs%3A%20L.CRS.EPSG3857%2C%0A%20%20%20%20%20%20%20%20%20%20%20%20%20%20%20%20%20%20%20%20zoom%3A%2011%2C%0A%20%20%20%20%20%20%20%20%20%20%20%20%20%20%20%20%20%20%20%20zoomControl%3A%20true%2C%0A%20%20%20%20%20%20%20%20%20%20%20%20%20%20%20%20%20%20%20%20preferCanvas%3A%20false%2C%0A%20%20%20%20%20%20%20%20%20%20%20%20%20%20%20%20%7D%0A%20%20%20%20%20%20%20%20%20%20%20%20%29%3B%0A%0A%20%20%20%20%20%20%20%20%20%20%20%20%0A%0A%20%20%20%20%20%20%20%20%0A%20%20%20%20%0A%20%20%20%20%20%20%20%20%20%20%20%20var%20tile_layer_ac5ebc76de1945e9afed599978399b50%20%3D%20L.tileLayer%28%0A%20%20%20%20%20%20%20%20%20%20%20%20%20%20%20%20%22https%3A//%7Bs%7D.tile.openstreetmap.org/%7Bz%7D/%7Bx%7D/%7By%7D.png%22%2C%0A%20%20%20%20%20%20%20%20%20%20%20%20%20%20%20%20%7B%22attribution%22%3A%20%22Data%20by%20%5Cu0026copy%3B%20%5Cu003ca%20href%3D%5C%22http%3A//openstreetmap.org%5C%22%5Cu003eOpenStreetMap%5Cu003c/a%5Cu003e%2C%20under%20%5Cu003ca%20href%3D%5C%22http%3A//www.openstreetmap.org/copyright%5C%22%5Cu003eODbL%5Cu003c/a%5Cu003e.%22%2C%20%22detectRetina%22%3A%20false%2C%20%22maxNativeZoom%22%3A%2018%2C%20%22maxZoom%22%3A%2018%2C%20%22minZoom%22%3A%200%2C%20%22noWrap%22%3A%20false%2C%20%22opacity%22%3A%201%2C%20%22subdomains%22%3A%20%22abc%22%2C%20%22tms%22%3A%20false%7D%0A%20%20%20%20%20%20%20%20%20%20%20%20%29.addTo%28map_35195e9e10534895b1562e42b1dab4ec%29%3B%0A%20%20%20%20%20%20%20%20%0A%20%20%20%20%0A%20%20%20%20%20%20%20%20%20%20%20%20var%20marker_5649b99622014a50b39cc67705720ee9%20%3D%20L.marker%28%0A%20%20%20%20%20%20%20%20%20%20%20%20%20%20%20%20%5B35.1840917874952%2C%20129.104619815874%5D%2C%0A%20%20%20%20%20%20%20%20%20%20%20%20%20%20%20%20%7B%7D%0A%20%20%20%20%20%20%20%20%20%20%20%20%29.addTo%28map_35195e9e10534895b1562e42b1dab4ec%29%3B%0A%20%20%20%20%20%20%20%20%0A%20%20%20%20%0A%20%20%20%20%20%20%20%20var%20popup_83891af99f94451facf98b4beb886251%20%3D%20L.popup%28%7B%22maxWidth%22%3A%20200%7D%29%3B%0A%0A%20%20%20%20%20%20%20%20%0A%20%20%20%20%20%20%20%20%20%20%20%20var%20html_484c985ee61a4d43b5267b568f29b07c%20%3D%20%24%28%60%3Cdiv%20id%3D%22html_484c985ee61a4d43b5267b568f29b07c%22%20style%3D%22width%3A%20100.0%25%3B%20height%3A%20100.0%25%3B%22%3E%EB%B6%80%EC%82%B0%EA%B4%91%EC%97%AD%EC%8B%9C%20%EC%97%B0%EC%A0%9C%EA%B5%AC%20%EA%B3%A0%EB%B6%84%EB%A1%9C%20200%28%EC%97%B0%EC%82%B0%EB%8F%99%2C%20%EC%97%B0%EC%82%B0%EC%97%98%EC%A7%80%EC%95%84%ED%8C%8C%ED%8A%B8%29%3C/div%3E%60%29%5B0%5D%3B%0A%20%20%20%20%20%20%20%20%20%20%20%20popup_83891af99f94451facf98b4beb886251.setContent%28html_484c985ee61a4d43b5267b568f29b07c%29%3B%0A%20%20%20%20%20%20%20%20%0A%0A%20%20%20%20%20%20%20%20marker_5649b99622014a50b39cc67705720ee9.bindPopup%28popup_83891af99f94451facf98b4beb886251%29%0A%20%20%20%20%20%20%20%20%3B%0A%0A%20%20%20%20%20%20%20%20%0A%20%20%20%20%0A%20%20%20%20%0A%20%20%20%20%20%20%20%20%20%20%20%20marker_5649b99622014a50b39cc67705720ee9.bindTooltip%28%0A%20%20%20%20%20%20%20%20%20%20%20%20%20%20%20%20%60%3Cdiv%3E%0A%20%20%20%20%20%20%20%20%20%20%20%20%20%20%20%20%20%20%20%20%20%EC%9D%B4%EC%86%8C%EC%9D%98%0A%20%20%20%20%20%20%20%20%20%20%20%20%20%20%20%20%20%3C/div%3E%60%2C%0A%20%20%20%20%20%20%20%20%20%20%20%20%20%20%20%20%7B%22sticky%22%3A%20true%7D%0A%20%20%20%20%20%20%20%20%20%20%20%20%29%3B%0A%20%20%20%20%20%20%20%20%0A%20%20%20%20%0A%20%20%20%20%20%20%20%20%20%20%20%20var%20marker_ba8fca66e05c44e980b23eff1d3fec5b%20%3D%20L.marker%28%0A%20%20%20%20%20%20%20%20%20%20%20%20%20%20%20%20%5B35.1800348348795%2C%20129.107804009392%5D%2C%0A%20%20%20%20%20%20%20%20%20%20%20%20%20%20%20%20%7B%7D%0A%20%20%20%20%20%20%20%20%20%20%20%20%29.addTo%28map_35195e9e10534895b1562e42b1dab4ec%29%3B%0A%20%20%20%20%20%20%20%20%0A%20%20%20%20%0A%20%20%20%20%20%20%20%20var%20popup_9ecab948bcf1441f8cf24d02a005a07f%20%3D%20L.popup%28%7B%22maxWidth%22%3A%20200%7D%29%3B%0A%0A%20%20%20%20%20%20%20%20%0A%20%20%20%20%20%20%20%20%20%20%20%20var%20html_4b17be43c0a94a10b4a6c0715f9bc511%20%3D%20%24%28%60%3Cdiv%20id%3D%22html_4b17be43c0a94a10b4a6c0715f9bc511%22%20style%3D%22width%3A%20100.0%25%3B%20height%3A%20100.0%25%3B%22%3E%EB%B6%80%EC%82%B0%EA%B4%91%EC%97%AD%EC%8B%9C%20%EC%97%B0%EC%A0%9C%EA%B5%AC%20%ED%86%A0%ED%98%84%EB%A1%9C%206%28%EC%97%B0%EC%82%B0%EB%8F%99%29%3C/div%3E%60%29%5B0%5D%3B%0A%20%20%20%20%20%20%20%20%20%20%20%20popup_9ecab948bcf1441f8cf24d02a005a07f.setContent%28html_4b17be43c0a94a10b4a6c0715f9bc511%29%3B%0A%20%20%20%20%20%20%20%20%0A%0A%20%20%20%20%20%20%20%20marker_ba8fca66e05c44e980b23eff1d3fec5b.bindPopup%28popup_9ecab948bcf1441f8cf24d02a005a07f%29%0A%20%20%20%20%20%20%20%20%3B%0A%0A%20%20%20%20%20%20%20%20%0A%20%20%20%20%0A%20%20%20%20%0A%20%20%20%20%20%20%20%20%20%20%20%20marker_ba8fca66e05c44e980b23eff1d3fec5b.bindTooltip%28%0A%20%20%20%20%20%20%20%20%20%20%20%20%20%20%20%20%60%3Cdiv%3E%0A%20%20%20%20%20%20%20%20%20%20%20%20%20%20%20%20%20%20%20%20%20%EB%85%B8%EB%AA%85%ED%9D%AC%0A%20%20%20%20%20%20%20%20%20%20%20%20%20%20%20%20%20%3C/div%3E%60%2C%0A%20%20%20%20%20%20%20%20%20%20%20%20%20%20%20%20%7B%22sticky%22%3A%20true%7D%0A%20%20%20%20%20%20%20%20%20%20%20%20%29%3B%0A%20%20%20%20%20%20%20%20%0A%20%20%20%20%0A%20%20%20%20%20%20%20%20%20%20%20%20var%20marker_1f403703d49746169ba01cee6ec37431%20%3D%20L.marker%28%0A%20%20%20%20%20%20%20%20%20%20%20%20%20%20%20%20%5B35.2101925655954%2C%20128.030689275186%5D%2C%0A%20%20%20%20%20%20%20%20%20%20%20%20%20%20%20%20%7B%7D%0A%20%20%20%20%20%20%20%20%20%20%20%20%29.addTo%28map_35195e9e10534895b1562e42b1dab4ec%29%3B%0A%20%20%20%20%20%20%20%20%0A%20%20%20%20%0A%20%20%20%20%20%20%20%20var%20popup_8471da42ef654d6bab1050554c844024%20%3D%20L.popup%28%7B%22maxWidth%22%3A%20200%7D%29%3B%0A%0A%20%20%20%20%20%20%20%20%0A%20%20%20%20%20%20%20%20%20%20%20%20var%20html_4b7a45b22120480382241adeb21d2901%20%3D%20%24%28%60%3Cdiv%20id%3D%22html_4b7a45b22120480382241adeb21d2901%22%20style%3D%22width%3A%20100.0%25%3B%20height%3A%20100.0%25%3B%22%3E%EA%B2%BD%EC%83%81%EB%82%A8%EB%8F%84%20%EC%A7%84%EC%A3%BC%EC%8B%9C%20%EB%AA%85%EC%84%9D%EB%A9%B4%20%ED%8C%90%EB%AC%B8%EB%A1%9C%20504-4%3C/div%3E%60%29%5B0%5D%3B%0A%20%20%20%20%20%20%20%20%20%20%20%20popup_8471da42ef654d6bab1050554c844024.setContent%28html_4b7a45b22120480382241adeb21d2901%29%3B%0A%20%20%20%20%20%20%20%20%0A%0A%20%20%20%20%20%20%20%20marker_1f403703d49746169ba01cee6ec37431.bindPopup%28popup_8471da42ef654d6bab1050554c844024%29%0A%20%20%20%20%20%20%20%20%3B%0A%0A%20%20%20%20%20%20%20%20%0A%20%20%20%20%0A%20%20%20%20%0A%20%20%20%20%20%20%20%20%20%20%20%20marker_1f403703d49746169ba01cee6ec37431.bindTooltip%28%0A%20%20%20%20%20%20%20%20%20%20%20%20%20%20%20%20%60%3Cdiv%3E%0A%20%20%20%20%20%20%20%20%20%20%20%20%20%20%20%20%20%20%20%20%20%EA%B9%80%EC%97%B0%EC%A7%80%0A%20%20%20%20%20%20%20%20%20%20%20%20%20%20%20%20%20%3C/div%3E%60%2C%0A%20%20%20%20%20%20%20%20%20%20%20%20%20%20%20%20%7B%22sticky%22%3A%20true%7D%0A%20%20%20%20%20%20%20%20%20%20%20%20%29%3B%0A%20%20%20%20%20%20%20%20%0A%20%20%20%20%0A%20%20%20%20%20%20%20%20%20%20%20%20var%20marker_1f92dd85eaa74de9940a00f56acfb529%20%3D%20L.marker%28%0A%20%20%20%20%20%20%20%20%20%20%20%20%20%20%20%20%5B35.1785656351378%2C%20129.101171196941%5D%2C%0A%20%20%20%20%20%20%20%20%20%20%20%20%20%20%20%20%7B%7D%0A%20%20%20%20%20%20%20%20%20%20%20%20%29.addTo%28map_35195e9e10534895b1562e42b1dab4ec%29%3B%0A%20%20%20%20%20%20%20%20%0A%20%20%20%20%0A%20%20%20%20%20%20%20%20var%20popup_d14264374f4f4f04a19b59b580b77d07%20%3D%20L.popup%28%7B%22maxWidth%22%3A%20200%7D%29%3B%0A%0A%20%20%20%20%20%20%20%20%0A%20%20%20%20%20%20%20%20%20%20%20%20var%20html_92b89d46f7c74b939c4428126bc2925c%20%3D%20%24%28%60%3Cdiv%20id%3D%22html_92b89d46f7c74b939c4428126bc2925c%22%20style%3D%22width%3A%20100.0%25%3B%20height%3A%20100.0%25%3B%22%3E%EB%B6%80%EC%82%B0%EA%B4%91%EC%97%AD%EC%8B%9C%20%EC%88%98%EC%98%81%EA%B5%AC%20%EB%A7%9D%EB%AF%B8%EB%B0%B0%EC%82%B0%EB%A1%9C48%EB%B2%88%EA%B8%B8%2085-23%28%EB%A7%9D%EB%AF%B8%EB%8F%99%29%3C/div%3E%60%29%5B0%5D%3B%0A%20%20%20%20%20%20%20%20%20%20%20%20popup_d14264374f4f4f04a19b59b580b77d07.setContent%28html_92b89d46f7c74b939c4428126bc2925c%29%3B%0A%20%20%20%20%20%20%20%20%0A%0A%20%20%20%20%20%20%20%20marker_1f92dd85eaa74de9940a00f56acfb529.bindPopup%28popup_d14264374f4f4f04a19b59b580b77d07%29%0A%20%20%20%20%20%20%20%20%3B%0A%0A%20%20%20%20%20%20%20%20%0A%20%20%20%20%0A%20%20%20%20%0A%20%20%20%20%20%20%20%20%20%20%20%20marker_1f92dd85eaa74de9940a00f56acfb529.bindTooltip%28%0A%20%20%20%20%20%20%20%20%20%20%20%20%20%20%20%20%60%3Cdiv%3E%0A%20%20%20%20%20%20%20%20%20%20%20%20%20%20%20%20%20%20%20%20%20%EC%A7%84%EC%A3%BC%ED%98%84%0A%20%20%20%20%20%20%20%20%20%20%20%20%20%20%20%20%20%3C/div%3E%60%2C%0A%20%20%20%20%20%20%20%20%20%20%20%20%20%20%20%20%7B%22sticky%22%3A%20true%7D%0A%20%20%20%20%20%20%20%20%20%20%20%20%29%3B%0A%20%20%20%20%20%20%20%20%0A%20%20%20%20%0A%20%20%20%20%20%20%20%20%20%20%20%20var%20marker_9a6177d39eec4fb8bb54927b6bc16ed1%20%3D%20L.marker%28%0A%20%20%20%20%20%20%20%20%20%20%20%20%20%20%20%20%5B35.2064422850803%2C%20129.096549496864%5D%2C%0A%20%20%20%20%20%20%20%20%20%20%20%20%20%20%20%20%7B%7D%0A%20%20%20%20%20%20%20%20%20%20%20%20%29.addTo%28map_35195e9e10534895b1562e42b1dab4ec%29%3B%0A%20%20%20%20%20%20%20%20%0A%20%20%20%20%0A%20%20%20%20%20%20%20%20var%20popup_2c583df8a9df4e6b859f919838dd4836%20%3D%20L.popup%28%7B%22maxWidth%22%3A%20200%7D%29%3B%0A%0A%20%20%20%20%20%20%20%20%0A%20%20%20%20%20%20%20%20%20%20%20%20var%20html_f51f172ed8354838b2c9c3d61d816f0e%20%3D%20%24%28%60%3Cdiv%20id%3D%22html_f51f172ed8354838b2c9c3d61d816f0e%22%20style%3D%22width%3A%20100.0%25%3B%20height%3A%20100.0%25%3B%22%3E%EB%B6%80%EC%82%B0%EA%B4%91%EC%97%AD%EC%8B%9C%20%EB%8F%99%EB%9E%98%EA%B5%AC%20%EC%B6%A9%EB%A0%AC%EC%82%AC%EB%A1%9C51%EB%B2%88%EA%B8%B8%2062%28%EB%AA%85%EC%9E%A5%EB%8F%99%29%3C/div%3E%60%29%5B0%5D%3B%0A%20%20%20%20%20%20%20%20%20%20%20%20popup_2c583df8a9df4e6b859f919838dd4836.setContent%28html_f51f172ed8354838b2c9c3d61d816f0e%29%3B%0A%20%20%20%20%20%20%20%20%0A%0A%20%20%20%20%20%20%20%20marker_9a6177d39eec4fb8bb54927b6bc16ed1.bindPopup%28popup_2c583df8a9df4e6b859f919838dd4836%29%0A%20%20%20%20%20%20%20%20%3B%0A%0A%20%20%20%20%20%20%20%20%0A%20%20%20%20%0A%20%20%20%20%0A%20%20%20%20%20%20%20%20%20%20%20%20marker_9a6177d39eec4fb8bb54927b6bc16ed1.bindTooltip%28%0A%20%20%20%20%20%20%20%20%20%20%20%20%20%20%20%20%60%3Cdiv%3E%0A%20%20%20%20%20%20%20%20%20%20%20%20%20%20%20%20%20%20%20%20%20%EC%9D%B4%EC%A7%80%EC%9D%B8%0A%20%20%20%20%20%20%20%20%20%20%20%20%20%20%20%20%20%3C/div%3E%60%2C%0A%20%20%20%20%20%20%20%20%20%20%20%20%20%20%20%20%7B%22sticky%22%3A%20true%7D%0A%20%20%20%20%20%20%20%20%20%20%20%20%29%3B%0A%20%20%20%20%20%20%20%20%0A%20%20%20%20%0A%20%20%20%20%20%20%20%20%20%20%20%20var%20marker_5e4b57148bc347d0ad40aec5ecca2b7a%20%3D%20L.marker%28%0A%20%20%20%20%20%20%20%20%20%20%20%20%20%20%20%20%5B35.2092388167769%2C%20129.117090476233%5D%2C%0A%20%20%20%20%20%20%20%20%20%20%20%20%20%20%20%20%7B%7D%0A%20%20%20%20%20%20%20%20%20%20%20%20%29.addTo%28map_35195e9e10534895b1562e42b1dab4ec%29%3B%0A%20%20%20%20%20%20%20%20%0A%20%20%20%20%0A%20%20%20%20%20%20%20%20var%20popup_4792c944683b4ce087f96e0b3b12804a%20%3D%20L.popup%28%7B%22maxWidth%22%3A%20200%7D%29%3B%0A%0A%20%20%20%20%20%20%20%20%0A%20%20%20%20%20%20%20%20%20%20%20%20var%20html_d43527c9b8294942a8677c839416e02b%20%3D%20%24%28%60%3Cdiv%20id%3D%22html_d43527c9b8294942a8677c839416e02b%22%20style%3D%22width%3A%20100.0%25%3B%20height%3A%20100.0%25%3B%22%3E%EB%B6%80%EC%82%B0%EA%B4%91%EC%97%AD%EC%8B%9C%20%ED%95%B4%EC%9A%B4%EB%8C%80%EA%B5%AC%20%EC%82%BC%EC%96%B4%EB%A1%9C133%EB%B2%88%EA%B8%B8%2050%28%EB%B0%98%EC%97%AC%EB%8F%99%29%3C/div%3E%60%29%5B0%5D%3B%0A%20%20%20%20%20%20%20%20%20%20%20%20popup_4792c944683b4ce087f96e0b3b12804a.setContent%28html_d43527c9b8294942a8677c839416e02b%29%3B%0A%20%20%20%20%20%20%20%20%0A%0A%20%20%20%20%20%20%20%20marker_5e4b57148bc347d0ad40aec5ecca2b7a.bindPopup%28popup_4792c944683b4ce087f96e0b3b12804a%29%0A%20%20%20%20%20%20%20%20%3B%0A%0A%20%20%20%20%20%20%20%20%0A%20%20%20%20%0A%20%20%20%20%0A%20%20%20%20%20%20%20%20%20%20%20%20marker_5e4b57148bc347d0ad40aec5ecca2b7a.bindTooltip%28%0A%20%20%20%20%20%20%20%20%20%20%20%20%20%20%20%20%60%3Cdiv%3E%0A%20%20%20%20%20%20%20%20%20%20%20%20%20%20%20%20%20%20%20%20%20%EB%A5%98%EC%9D%80%EC%A7%80%0A%20%20%20%20%20%20%20%20%20%20%20%20%20%20%20%20%20%3C/div%3E%60%2C%0A%20%20%20%20%20%20%20%20%20%20%20%20%20%20%20%20%7B%22sticky%22%3A%20true%7D%0A%20%20%20%20%20%20%20%20%20%20%20%20%29%3B%0A%20%20%20%20%20%20%20%20%0A%20%20%20%20%0A%20%20%20%20%20%20%20%20%20%20%20%20var%20marker_77fd0e7c67c04e3bb818d5d8967f4327%20%3D%20L.marker%28%0A%20%20%20%20%20%20%20%20%20%20%20%20%20%20%20%20%5B35.2007741697571%2C%20129.081222575291%5D%2C%0A%20%20%20%20%20%20%20%20%20%20%20%20%20%20%20%20%7B%7D%0A%20%20%20%20%20%20%20%20%20%20%20%20%29.addTo%28map_35195e9e10534895b1562e42b1dab4ec%29%3B%0A%20%20%20%20%20%20%20%20%0A%20%20%20%20%0A%20%20%20%20%20%20%20%20var%20popup_6748dd0edd4e46abb9baca3fb6180225%20%3D%20L.popup%28%7B%22maxWidth%22%3A%20200%7D%29%3B%0A%0A%20%20%20%20%20%20%20%20%0A%20%20%20%20%20%20%20%20%20%20%20%20var%20html_3727da021c6c4d91b217bab7d1b5e87b%20%3D%20%24%28%60%3Cdiv%20id%3D%22html_3727da021c6c4d91b217bab7d1b5e87b%22%20style%3D%22width%3A%20100.0%25%3B%20height%3A%20100.0%25%3B%22%3E%EB%B6%80%EC%82%B0%EA%B4%91%EC%97%AD%EC%8B%9C%20%EB%8F%99%EB%9E%98%EA%B5%AC%20%EC%B6%A9%EB%A0%AC%EB%8C%80%EB%A1%9C202%EB%B2%88%EA%B8%B8%2014%28%EC%88%98%EC%95%88%EB%8F%99%2C%20%ED%95%B4%EB%B0%94%EB%9D%BC%EA%B8%B0%EC%95%84%ED%8C%8C%ED%8A%B8%29%3C/div%3E%60%29%5B0%5D%3B%0A%20%20%20%20%20%20%20%20%20%20%20%20popup_6748dd0edd4e46abb9baca3fb6180225.setContent%28html_3727da021c6c4d91b217bab7d1b5e87b%29%3B%0A%20%20%20%20%20%20%20%20%0A%0A%20%20%20%20%20%20%20%20marker_77fd0e7c67c04e3bb818d5d8967f4327.bindPopup%28popup_6748dd0edd4e46abb9baca3fb6180225%29%0A%20%20%20%20%20%20%20%20%3B%0A%0A%20%20%20%20%20%20%20%20%0A%20%20%20%20%0A%20%20%20%20%0A%20%20%20%20%20%20%20%20%20%20%20%20marker_77fd0e7c67c04e3bb818d5d8967f4327.bindTooltip%28%0A%20%20%20%20%20%20%20%20%20%20%20%20%20%20%20%20%60%3Cdiv%3E%0A%20%20%20%20%20%20%20%20%20%20%20%20%20%20%20%20%20%20%20%20%20%EA%B9%80%EC%A7%80%ED%98%84%0A%20%20%20%20%20%20%20%20%20%20%20%20%20%20%20%20%20%3C/div%3E%60%2C%0A%20%20%20%20%20%20%20%20%20%20%20%20%20%20%20%20%7B%22sticky%22%3A%20true%7D%0A%20%20%20%20%20%20%20%20%20%20%20%20%29%3B%0A%20%20%20%20%20%20%20%20%0A%20%20%20%20%0A%20%20%20%20%20%20%20%20%20%20%20%20var%20marker_778c8aee081f44f49991fd4f0ac8f879%20%3D%20L.marker%28%0A%20%20%20%20%20%20%20%20%20%20%20%20%20%20%20%20%5B35.194764418105%2C%20129.107600332947%5D%2C%0A%20%20%20%20%20%20%20%20%20%20%20%20%20%20%20%20%7B%7D%0A%20%20%20%20%20%20%20%20%20%20%20%20%29.addTo%28map_35195e9e10534895b1562e42b1dab4ec%29%3B%0A%20%20%20%20%20%20%20%20%0A%20%20%20%20%0A%20%20%20%20%20%20%20%20var%20popup_af2b1cbf4e6f456ea92341de762c1d68%20%3D%20L.popup%28%7B%22maxWidth%22%3A%20200%7D%29%3B%0A%0A%20%20%20%20%20%20%20%20%0A%20%20%20%20%20%20%20%20%20%20%20%20var%20html_6ee44c1813f44afc9867e9a3d8752f2c%20%3D%20%24%28%60%3Cdiv%20id%3D%22html_6ee44c1813f44afc9867e9a3d8752f2c%22%20style%3D%22width%3A%20100.0%25%3B%20height%3A%20100.0%25%3B%22%3E%EB%B6%80%EC%82%B0%EA%B4%91%EC%97%AD%EC%8B%9C%20%EB%8F%99%EB%9E%98%EA%B5%AC%20%EC%97%B0%EC%95%88%EB%A1%9C%2071%28%EC%95%88%EB%9D%BD%EB%8F%99%2C%20%EC%95%88%EB%9D%BD%EB%9C%A8%EB%9E%80%EC%B1%841%EB%8B%A8%EC%A7%80%EC%95%84%ED%8C%8C%ED%8A%B8%29%3C/div%3E%60%29%5B0%5D%3B%0A%20%20%20%20%20%20%20%20%20%20%20%20popup_af2b1cbf4e6f456ea92341de762c1d68.setContent%28html_6ee44c1813f44afc9867e9a3d8752f2c%29%3B%0A%20%20%20%20%20%20%20%20%0A%0A%20%20%20%20%20%20%20%20marker_778c8aee081f44f49991fd4f0ac8f879.bindPopup%28popup_af2b1cbf4e6f456ea92341de762c1d68%29%0A%20%20%20%20%20%20%20%20%3B%0A%0A%20%20%20%20%20%20%20%20%0A%20%20%20%20%0A%20%20%20%20%0A%20%20%20%20%20%20%20%20%20%20%20%20marker_778c8aee081f44f49991fd4f0ac8f879.bindTooltip%28%0A%20%20%20%20%20%20%20%20%20%20%20%20%20%20%20%20%60%3Cdiv%3E%0A%20%20%20%20%20%20%20%20%20%20%20%20%20%20%20%20%20%20%20%20%20%EC%84%9C%EC%A7%80%EC%9A%B0%0A%20%20%20%20%20%20%20%20%20%20%20%20%20%20%20%20%20%3C/div%3E%60%2C%0A%20%20%20%20%20%20%20%20%20%20%20%20%20%20%20%20%7B%22sticky%22%3A%20true%7D%0A%20%20%20%20%20%20%20%20%20%20%20%20%29%3B%0A%20%20%20%20%20%20%20%20%0A%20%20%20%20%0A%20%20%20%20%20%20%20%20%20%20%20%20var%20marker_bb5abfba1dd347e7b37a65b1df7196c6%20%3D%20L.marker%28%0A%20%20%20%20%20%20%20%20%20%20%20%20%20%20%20%20%5B35.1927417818779%2C%20129.110161293431%5D%2C%0A%20%20%20%20%20%20%20%20%20%20%20%20%20%20%20%20%7B%7D%0A%20%20%20%20%20%20%20%20%20%20%20%20%29.addTo%28map_35195e9e10534895b1562e42b1dab4ec%29%3B%0A%20%20%20%20%20%20%20%20%0A%20%20%20%20%0A%20%20%20%20%20%20%20%20var%20popup_ae35f4302b3f445ab1e0811f0b8f8489%20%3D%20L.popup%28%7B%22maxWidth%22%3A%20200%7D%29%3B%0A%0A%20%20%20%20%20%20%20%20%0A%20%20%20%20%20%20%20%20%20%20%20%20var%20html_0f6ea9b43544410dafb2739bd29da444%20%3D%20%24%28%60%3Cdiv%20id%3D%22html_0f6ea9b43544410dafb2739bd29da444%22%20style%3D%22width%3A%20100.0%25%3B%20height%3A%20100.0%25%3B%22%3E%EB%B6%80%EC%82%B0%EA%B4%91%EC%97%AD%EC%8B%9C%20%EB%8F%99%EB%9E%98%EA%B5%AC%20%EC%97%B0%EC%95%88%EB%A1%9C%2074%28%EC%95%88%EB%9D%BD%EB%8F%99%2C%20%EC%95%88%EB%9D%BD%EB%9C%A8%EB%9E%80%EC%B1%842%EB%8B%A8%EC%A7%80%EC%95%84%ED%8C%8C%ED%8A%B8%29%3C/div%3E%60%29%5B0%5D%3B%0A%20%20%20%20%20%20%20%20%20%20%20%20popup_ae35f4302b3f445ab1e0811f0b8f8489.setContent%28html_0f6ea9b43544410dafb2739bd29da444%29%3B%0A%20%20%20%20%20%20%20%20%0A%0A%20%20%20%20%20%20%20%20marker_bb5abfba1dd347e7b37a65b1df7196c6.bindPopup%28popup_ae35f4302b3f445ab1e0811f0b8f8489%29%0A%20%20%20%20%20%20%20%20%3B%0A%0A%20%20%20%20%20%20%20%20%0A%20%20%20%20%0A%20%20%20%20%0A%20%20%20%20%20%20%20%20%20%20%20%20marker_bb5abfba1dd347e7b37a65b1df7196c6.bindTooltip%28%0A%20%20%20%20%20%20%20%20%20%20%20%20%20%20%20%20%60%3Cdiv%3E%0A%20%20%20%20%20%20%20%20%20%20%20%20%20%20%20%20%20%20%20%20%20%EC%9C%84%EC%A0%95%ED%98%84%0A%20%20%20%20%20%20%20%20%20%20%20%20%20%20%20%20%20%3C/div%3E%60%2C%0A%20%20%20%20%20%20%20%20%20%20%20%20%20%20%20%20%7B%22sticky%22%3A%20true%7D%0A%20%20%20%20%20%20%20%20%20%20%20%20%29%3B%0A%20%20%20%20%20%20%20%20%0A%20%20%20%20%0A%20%20%20%20%20%20%20%20%20%20%20%20var%20marker_f91152e276f14d24972d181573d1eed2%20%3D%20L.marker%28%0A%20%20%20%20%20%20%20%20%20%20%20%20%20%20%20%20%5B35.1931222050951%2C%20129.111626113681%5D%2C%0A%20%20%20%20%20%20%20%20%20%20%20%20%20%20%20%20%7B%7D%0A%20%20%20%20%20%20%20%20%20%20%20%20%29.addTo%28map_35195e9e10534895b1562e42b1dab4ec%29%3B%0A%20%20%20%20%20%20%20%20%0A%20%20%20%20%0A%20%20%20%20%20%20%20%20var%20popup_b9ed5d33497a4762b46241574bbf293e%20%3D%20L.popup%28%7B%22maxWidth%22%3A%20200%7D%29%3B%0A%0A%20%20%20%20%20%20%20%20%0A%20%20%20%20%20%20%20%20%20%20%20%20var%20html_f993d43e53bb48b1bf8cc270d1eed17b%20%3D%20%24%28%60%3Cdiv%20id%3D%22html_f993d43e53bb48b1bf8cc270d1eed17b%22%20style%3D%22width%3A%20100.0%25%3B%20height%3A%20100.0%25%3B%22%3E%EB%B6%80%EC%82%B0%EA%B4%91%EC%97%AD%EC%8B%9C%20%EB%8F%99%EB%9E%98%EA%B5%AC%20%EC%98%A8%EC%B2%9C%EC%B2%9C%EB%A1%9C531%EB%B2%88%EA%B8%B8%2049%28%EC%95%88%EB%9D%BD%EB%8F%99%29%3C/div%3E%60%29%5B0%5D%3B%0A%20%20%20%20%20%20%20%20%20%20%20%20popup_b9ed5d33497a4762b46241574bbf293e.setContent%28html_f993d43e53bb48b1bf8cc270d1eed17b%29%3B%0A%20%20%20%20%20%20%20%20%0A%0A%20%20%20%20%20%20%20%20marker_f91152e276f14d24972d181573d1eed2.bindPopup%28popup_b9ed5d33497a4762b46241574bbf293e%29%0A%20%20%20%20%20%20%20%20%3B%0A%0A%20%20%20%20%20%20%20%20%0A%20%20%20%20%0A%20%20%20%20%0A%20%20%20%20%20%20%20%20%20%20%20%20marker_f91152e276f14d24972d181573d1eed2.bindTooltip%28%0A%20%20%20%20%20%20%20%20%20%20%20%20%20%20%20%20%60%3Cdiv%3E%0A%20%20%20%20%20%20%20%20%20%20%20%20%20%20%20%20%20%20%20%20%20%EA%B9%80%EC%9C%A0%EC%A7%84%0A%20%20%20%20%20%20%20%20%20%20%20%20%20%20%20%20%20%3C/div%3E%60%2C%0A%20%20%20%20%20%20%20%20%20%20%20%20%20%20%20%20%7B%22sticky%22%3A%20true%7D%0A%20%20%20%20%20%20%20%20%20%20%20%20%29%3B%0A%20%20%20%20%20%20%20%20%0A%20%20%20%20%0A%20%20%20%20%20%20%20%20%20%20%20%20var%20marker_e921d8eb7f70484fbcd70f1e36713580%20%3D%20L.marker%28%0A%20%20%20%20%20%20%20%20%20%20%20%20%20%20%20%20%5B35.1942965382289%2C%20129.090049155964%5D%2C%0A%20%20%20%20%20%20%20%20%20%20%20%20%20%20%20%20%7B%7D%0A%20%20%20%20%20%20%20%20%20%20%20%20%29.addTo%28map_35195e9e10534895b1562e42b1dab4ec%29%3B%0A%20%20%20%20%20%20%20%20%0A%20%20%20%20%0A%20%20%20%20%20%20%20%20var%20popup_d7603d53fb3842449d6067525bc63621%20%3D%20L.popup%28%7B%22maxWidth%22%3A%20200%7D%29%3B%0A%0A%20%20%20%20%20%20%20%20%0A%20%20%20%20%20%20%20%20%20%20%20%20var%20html_dc837d4727b544549f5463b6095f9545%20%3D%20%24%28%60%3Cdiv%20id%3D%22html_dc837d4727b544549f5463b6095f9545%22%20style%3D%22width%3A%20100.0%25%3B%20height%3A%20100.0%25%3B%22%3E%EB%B6%80%EC%82%B0%EA%B4%91%EC%97%AD%EC%8B%9C%20%EB%8F%99%EB%9E%98%EA%B5%AC%20%EC%88%98%EC%95%88%EB%A1%9C8%EB%B2%88%EA%B8%B8%2038%28%EC%88%98%EC%95%88%EB%8F%99%2C%20%EC%98%A8%EC%B2%9C%EC%B2%9C%20%EA%B2%BD%EB%8F%99%EB%A6%AC%EC%9D%B8%ED%83%80%EC%9B%8C2%EC%B0%A8%29%3C/div%3E%60%29%5B0%5D%3B%0A%20%20%20%20%20%20%20%20%20%20%20%20popup_d7603d53fb3842449d6067525bc63621.setContent%28html_dc837d4727b544549f5463b6095f9545%29%3B%0A%20%20%20%20%20%20%20%20%0A%0A%20%20%20%20%20%20%20%20marker_e921d8eb7f70484fbcd70f1e36713580.bindPopup%28popup_d7603d53fb3842449d6067525bc63621%29%0A%20%20%20%20%20%20%20%20%3B%0A%0A%20%20%20%20%20%20%20%20%0A%20%20%20%20%0A%20%20%20%20%0A%20%20%20%20%20%20%20%20%20%20%20%20marker_e921d8eb7f70484fbcd70f1e36713580.bindTooltip%28%0A%20%20%20%20%20%20%20%20%20%20%20%20%20%20%20%20%60%3Cdiv%3E%0A%20%20%20%20%20%20%20%20%20%20%20%20%20%20%20%20%20%20%20%20%20%EC%9E%84%EC%B1%84%EC%A4%80%0A%20%20%20%20%20%20%20%20%20%20%20%20%20%20%20%20%20%3C/div%3E%60%2C%0A%20%20%20%20%20%20%20%20%20%20%20%20%20%20%20%20%7B%22sticky%22%3A%20true%7D%0A%20%20%20%20%20%20%20%20%20%20%20%20%29%3B%0A%20%20%20%20%20%20%20%20%0A%3C/script%3E onload=\"this.contentDocument.open();this.contentDocument.write(    decodeURIComponent(this.getAttribute('data-html')));this.contentDocument.close();\" allowfullscreen webkitallowfullscreen mozallowfullscreen></iframe></div></div>"
      ],
      "text/plain": [
       "<folium.folium.Map at 0x233f24617f0>"
      ]
     },
     "execution_count": 33,
     "metadata": {},
     "output_type": "execute_result"
    }
   ],
   "source": [
    "map = folium.Map(location=[df.위도.mean(), df.경도.mean()], zoom_start=11)\n",
    "for i in df.index:\n",
    "    folium.Marker(\n",
    "    location=[df.위도[i], df.경도[i]],\n",
    "    tooltip = df.누구집[i],                                           \n",
    "    popup = folium.Popup(df.주소[i], max_width = 200),       \n",
    "    ).add_to(map)\n",
    "\n",
    "title = '<h3 align=\"center\" style=\"font-size:20px\">병머 하우스</h3>'\n",
    "map.get_root().html.add_child(folium.Element(title))    \n",
    "map"
   ]
  },
  {
   "cell_type": "code",
   "execution_count": 34,
   "metadata": {},
   "outputs": [],
   "source": [
    "map.save('병머집.html')"
   ]
  },
  {
   "cell_type": "code",
   "execution_count": null,
   "metadata": {},
   "outputs": [],
   "source": []
  }
 ],
 "metadata": {
  "interpreter": {
   "hash": "d990e0f5c79ab62bfe20220d5fc8769a25e3da57dce2813cc13c29871ddc1bfb"
  },
  "kernelspec": {
   "display_name": "Python 3.8.8 64-bit ('base': conda)",
   "language": "python",
   "name": "python3"
  },
  "language_info": {
   "codemirror_mode": {
    "name": "ipython",
    "version": 3
   },
   "file_extension": ".py",
   "mimetype": "text/x-python",
   "name": "python",
   "nbconvert_exporter": "python",
   "pygments_lexer": "ipython3",
   "version": "3.8.8"
  },
  "orig_nbformat": 4
 },
 "nbformat": 4,
 "nbformat_minor": 2
}
